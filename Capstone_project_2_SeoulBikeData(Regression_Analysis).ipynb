{
  "nbformat": 4,
  "nbformat_minor": 0,
  "metadata": {
    "kernelspec": {
      "display_name": "Python 3",
      "language": "python",
      "name": "python3"
    },
    "language_info": {
      "codemirror_mode": {
        "name": "ipython",
        "version": 3
      },
      "file_extension": ".py",
      "mimetype": "text/x-python",
      "name": "python",
      "nbconvert_exporter": "python",
      "pygments_lexer": "ipython3",
      "version": "3.7.4"
    },
    "colab": {
      "provenance": [],
      "include_colab_link": true
    }
  },
  "cells": [
    {
      "cell_type": "markdown",
      "metadata": {
        "id": "view-in-github",
        "colab_type": "text"
      },
      "source": [
        "<a href=\"https://colab.research.google.com/github/singh06-08/Regression--Analysis/blob/main/Capstone_project_2_SeoulBikeData(Regression_Analysis).ipynb\" target=\"_parent\"><img src=\"https://colab.research.google.com/assets/colab-badge.svg\" alt=\"Open In Colab\"/></a>"
      ]
    },
    {
      "cell_type": "code",
      "source": [
        "\n",
        "#importing various libraries\n",
        "import pandas as pd\n",
        "import numpy as np\n",
        "import seaborn as sns\n",
        "import matplotlib.pyplot as plt\n",
        "from scipy import stats\n",
        "from sklearn.model_selection import train_test_split\n",
        "from sklearn.preprocessing import MinMaxScaler\n",
        "from sklearn.preprocessing import StandardScaler\n",
        "\n",
        "from sklearn.linear_model import LinearRegression\n",
        "from sklearn.linear_model import Ridge, RidgeCV\n",
        "from sklearn.linear_model import Lasso, LassoCV\n",
        "from sklearn.linear_model import ElasticNet\n",
        "from sklearn.neighbors import KNeighborsRegressor\n",
        "from sklearn.tree import DecisionTreeRegressor\n",
        "from sklearn.ensemble import GradientBoostingRegressor\n",
        "from sklearn.ensemble import RandomForestRegressor\n",
        "import xgboost as xgb\n",
        "\n",
        "from sklearn.model_selection import GridSearchCV\n",
        "from sklearn.model_selection import cross_validate\n",
        "\n",
        "from sklearn.metrics import r2_score\n",
        "from sklearn.metrics import mean_squared_error\n",
        "from math import sqrt\n",
        "from sklearn.metrics import mean_squared_log_error\n",
        "from scipy.stats import zscore\n",
        "from sklearn.metrics import roc_auc_score, accuracy_score"
      ],
      "metadata": {
        "id": "z6Kn2yjKpQ9_"
      },
      "execution_count": null,
      "outputs": []
    },
    {
      "cell_type": "code",
      "source": [
        "#drive mounting\n",
        "from google.colab import drive\n",
        "drive.mount('/content/drive')\n"
      ],
      "metadata": {
        "colab": {
          "base_uri": "https://localhost:8080/"
        },
        "id": "izAh_fyj98UY",
        "outputId": "1f1f0f94-72f8-43dd-eb34-59520a89d1d8"
      },
      "execution_count": null,
      "outputs": [
        {
          "output_type": "stream",
          "name": "stdout",
          "text": [
            "Mounted at /content/drive\n"
          ]
        }
      ]
    },
    {
      "cell_type": "code",
      "source": [
        "#reading csv file\n",
        "dataset = pd.read_csv('/content/drive/MyDrive/Copy of BikeData.csv', encoding= 'unicode_escape')"
      ],
      "metadata": {
        "id": "CrD7zsRS60Kf"
      },
      "execution_count": null,
      "outputs": []
    },
    {
      "cell_type": "code",
      "source": [
        "dataset.head"
      ],
      "metadata": {
        "id": "zF82smYTFHO_",
        "outputId": "d6a800d3-6b42-4de0-8300-c2fed6650474",
        "colab": {
          "base_uri": "https://localhost:8080/"
        }
      },
      "execution_count": null,
      "outputs": [
        {
          "output_type": "execute_result",
          "data": {
            "text/plain": [
              "<bound method NDFrame.head of             Date  Rented Bike Count  Hour  Temperature(°C)  Humidity(%)  \\\n",
              "0     01/12/2017                254     0             -5.2           37   \n",
              "1     01/12/2017                204     1             -5.5           38   \n",
              "2     01/12/2017                173     2             -6.0           39   \n",
              "3     01/12/2017                107     3             -6.2           40   \n",
              "4     01/12/2017                 78     4             -6.0           36   \n",
              "...          ...                ...   ...              ...          ...   \n",
              "8755  30/11/2018               1003    19              4.2           34   \n",
              "8756  30/11/2018                764    20              3.4           37   \n",
              "8757  30/11/2018                694    21              2.6           39   \n",
              "8758  30/11/2018                712    22              2.1           41   \n",
              "8759  30/11/2018                584    23              1.9           43   \n",
              "\n",
              "      Wind speed (m/s)  Visibility (10m)  Dew point temperature(°C)  \\\n",
              "0                  2.2              2000                      -17.6   \n",
              "1                  0.8              2000                      -17.6   \n",
              "2                  1.0              2000                      -17.7   \n",
              "3                  0.9              2000                      -17.6   \n",
              "4                  2.3              2000                      -18.6   \n",
              "...                ...               ...                        ...   \n",
              "8755               2.6              1894                      -10.3   \n",
              "8756               2.3              2000                       -9.9   \n",
              "8757               0.3              1968                       -9.9   \n",
              "8758               1.0              1859                       -9.8   \n",
              "8759               1.3              1909                       -9.3   \n",
              "\n",
              "      Solar Radiation (MJ/m2)  Rainfall(mm)  Snowfall (cm) Seasons  \\\n",
              "0                         0.0           0.0            0.0  Winter   \n",
              "1                         0.0           0.0            0.0  Winter   \n",
              "2                         0.0           0.0            0.0  Winter   \n",
              "3                         0.0           0.0            0.0  Winter   \n",
              "4                         0.0           0.0            0.0  Winter   \n",
              "...                       ...           ...            ...     ...   \n",
              "8755                      0.0           0.0            0.0  Autumn   \n",
              "8756                      0.0           0.0            0.0  Autumn   \n",
              "8757                      0.0           0.0            0.0  Autumn   \n",
              "8758                      0.0           0.0            0.0  Autumn   \n",
              "8759                      0.0           0.0            0.0  Autumn   \n",
              "\n",
              "         Holiday Functioning Day  \n",
              "0     No Holiday             Yes  \n",
              "1     No Holiday             Yes  \n",
              "2     No Holiday             Yes  \n",
              "3     No Holiday             Yes  \n",
              "4     No Holiday             Yes  \n",
              "...          ...             ...  \n",
              "8755  No Holiday             Yes  \n",
              "8756  No Holiday             Yes  \n",
              "8757  No Holiday             Yes  \n",
              "8758  No Holiday             Yes  \n",
              "8759  No Holiday             Yes  \n",
              "\n",
              "[8760 rows x 14 columns]>"
            ]
          },
          "metadata": {},
          "execution_count": 5
        }
      ]
    },
    {
      "cell_type": "code",
      "source": [
        "#shape of dataset\n",
        "dataset.shape"
      ],
      "metadata": {
        "colab": {
          "base_uri": "https://localhost:8080/"
        },
        "id": "T0Q-wtLO6wrs",
        "outputId": "55ca3696-9722-425f-b414-1b7ec5a1bcac"
      },
      "execution_count": null,
      "outputs": [
        {
          "output_type": "execute_result",
          "data": {
            "text/plain": [
              "(8760, 14)"
            ]
          },
          "metadata": {},
          "execution_count": 6
        }
      ]
    },
    {
      "cell_type": "code",
      "source": [
        "#checking for null values and data type\n",
        "dataset.info()"
      ],
      "metadata": {
        "colab": {
          "base_uri": "https://localhost:8080/"
        },
        "id": "CvsKz2RR7OYw",
        "outputId": "b9fd4cd6-6555-4e8e-f902-878ed80175b9"
      },
      "execution_count": null,
      "outputs": [
        {
          "output_type": "stream",
          "name": "stdout",
          "text": [
            "<class 'pandas.core.frame.DataFrame'>\n",
            "RangeIndex: 8760 entries, 0 to 8759\n",
            "Data columns (total 14 columns):\n",
            " #   Column                     Non-Null Count  Dtype  \n",
            "---  ------                     --------------  -----  \n",
            " 0   Date                       8760 non-null   object \n",
            " 1   Rented Bike Count          8760 non-null   int64  \n",
            " 2   Hour                       8760 non-null   int64  \n",
            " 3   Temperature(°C)            8760 non-null   float64\n",
            " 4   Humidity(%)                8760 non-null   int64  \n",
            " 5   Wind speed (m/s)           8760 non-null   float64\n",
            " 6   Visibility (10m)           8760 non-null   int64  \n",
            " 7   Dew point temperature(°C)  8760 non-null   float64\n",
            " 8   Solar Radiation (MJ/m2)    8760 non-null   float64\n",
            " 9   Rainfall(mm)               8760 non-null   float64\n",
            " 10  Snowfall (cm)              8760 non-null   float64\n",
            " 11  Seasons                    8760 non-null   object \n",
            " 12  Holiday                    8760 non-null   object \n",
            " 13  Functioning Day            8760 non-null   object \n",
            "dtypes: float64(6), int64(4), object(4)\n",
            "memory usage: 958.2+ KB\n"
          ]
        }
      ]
    },
    {
      "cell_type": "code",
      "source": [
        "#checking if any missing values in dataset\n",
        "dataset.isnull()"
      ],
      "metadata": {
        "colab": {
          "base_uri": "https://localhost:8080/",
          "height": 502
        },
        "id": "gxmc-U9D7c1i",
        "outputId": "f71f67df-45bc-46c4-98a6-555f96509c86"
      },
      "execution_count": null,
      "outputs": [
        {
          "output_type": "execute_result",
          "data": {
            "text/plain": [
              "       Date  Rented Bike Count   Hour  Temperature(°C)  Humidity(%)  \\\n",
              "0     False              False  False            False        False   \n",
              "1     False              False  False            False        False   \n",
              "2     False              False  False            False        False   \n",
              "3     False              False  False            False        False   \n",
              "4     False              False  False            False        False   \n",
              "...     ...                ...    ...              ...          ...   \n",
              "8755  False              False  False            False        False   \n",
              "8756  False              False  False            False        False   \n",
              "8757  False              False  False            False        False   \n",
              "8758  False              False  False            False        False   \n",
              "8759  False              False  False            False        False   \n",
              "\n",
              "      Wind speed (m/s)  Visibility (10m)  Dew point temperature(°C)  \\\n",
              "0                False             False                      False   \n",
              "1                False             False                      False   \n",
              "2                False             False                      False   \n",
              "3                False             False                      False   \n",
              "4                False             False                      False   \n",
              "...                ...               ...                        ...   \n",
              "8755             False             False                      False   \n",
              "8756             False             False                      False   \n",
              "8757             False             False                      False   \n",
              "8758             False             False                      False   \n",
              "8759             False             False                      False   \n",
              "\n",
              "      Solar Radiation (MJ/m2)  Rainfall(mm)  Snowfall (cm)  Seasons  Holiday  \\\n",
              "0                       False         False          False    False    False   \n",
              "1                       False         False          False    False    False   \n",
              "2                       False         False          False    False    False   \n",
              "3                       False         False          False    False    False   \n",
              "4                       False         False          False    False    False   \n",
              "...                       ...           ...            ...      ...      ...   \n",
              "8755                    False         False          False    False    False   \n",
              "8756                    False         False          False    False    False   \n",
              "8757                    False         False          False    False    False   \n",
              "8758                    False         False          False    False    False   \n",
              "8759                    False         False          False    False    False   \n",
              "\n",
              "      Functioning Day  \n",
              "0               False  \n",
              "1               False  \n",
              "2               False  \n",
              "3               False  \n",
              "4               False  \n",
              "...               ...  \n",
              "8755            False  \n",
              "8756            False  \n",
              "8757            False  \n",
              "8758            False  \n",
              "8759            False  \n",
              "\n",
              "[8760 rows x 14 columns]"
            ],
            "text/html": [
              "\n",
              "  <div id=\"df-42cf101b-50e0-4f0b-9445-abba376d7da3\">\n",
              "    <div class=\"colab-df-container\">\n",
              "      <div>\n",
              "<style scoped>\n",
              "    .dataframe tbody tr th:only-of-type {\n",
              "        vertical-align: middle;\n",
              "    }\n",
              "\n",
              "    .dataframe tbody tr th {\n",
              "        vertical-align: top;\n",
              "    }\n",
              "\n",
              "    .dataframe thead th {\n",
              "        text-align: right;\n",
              "    }\n",
              "</style>\n",
              "<table border=\"1\" class=\"dataframe\">\n",
              "  <thead>\n",
              "    <tr style=\"text-align: right;\">\n",
              "      <th></th>\n",
              "      <th>Date</th>\n",
              "      <th>Rented Bike Count</th>\n",
              "      <th>Hour</th>\n",
              "      <th>Temperature(°C)</th>\n",
              "      <th>Humidity(%)</th>\n",
              "      <th>Wind speed (m/s)</th>\n",
              "      <th>Visibility (10m)</th>\n",
              "      <th>Dew point temperature(°C)</th>\n",
              "      <th>Solar Radiation (MJ/m2)</th>\n",
              "      <th>Rainfall(mm)</th>\n",
              "      <th>Snowfall (cm)</th>\n",
              "      <th>Seasons</th>\n",
              "      <th>Holiday</th>\n",
              "      <th>Functioning Day</th>\n",
              "    </tr>\n",
              "  </thead>\n",
              "  <tbody>\n",
              "    <tr>\n",
              "      <th>0</th>\n",
              "      <td>False</td>\n",
              "      <td>False</td>\n",
              "      <td>False</td>\n",
              "      <td>False</td>\n",
              "      <td>False</td>\n",
              "      <td>False</td>\n",
              "      <td>False</td>\n",
              "      <td>False</td>\n",
              "      <td>False</td>\n",
              "      <td>False</td>\n",
              "      <td>False</td>\n",
              "      <td>False</td>\n",
              "      <td>False</td>\n",
              "      <td>False</td>\n",
              "    </tr>\n",
              "    <tr>\n",
              "      <th>1</th>\n",
              "      <td>False</td>\n",
              "      <td>False</td>\n",
              "      <td>False</td>\n",
              "      <td>False</td>\n",
              "      <td>False</td>\n",
              "      <td>False</td>\n",
              "      <td>False</td>\n",
              "      <td>False</td>\n",
              "      <td>False</td>\n",
              "      <td>False</td>\n",
              "      <td>False</td>\n",
              "      <td>False</td>\n",
              "      <td>False</td>\n",
              "      <td>False</td>\n",
              "    </tr>\n",
              "    <tr>\n",
              "      <th>2</th>\n",
              "      <td>False</td>\n",
              "      <td>False</td>\n",
              "      <td>False</td>\n",
              "      <td>False</td>\n",
              "      <td>False</td>\n",
              "      <td>False</td>\n",
              "      <td>False</td>\n",
              "      <td>False</td>\n",
              "      <td>False</td>\n",
              "      <td>False</td>\n",
              "      <td>False</td>\n",
              "      <td>False</td>\n",
              "      <td>False</td>\n",
              "      <td>False</td>\n",
              "    </tr>\n",
              "    <tr>\n",
              "      <th>3</th>\n",
              "      <td>False</td>\n",
              "      <td>False</td>\n",
              "      <td>False</td>\n",
              "      <td>False</td>\n",
              "      <td>False</td>\n",
              "      <td>False</td>\n",
              "      <td>False</td>\n",
              "      <td>False</td>\n",
              "      <td>False</td>\n",
              "      <td>False</td>\n",
              "      <td>False</td>\n",
              "      <td>False</td>\n",
              "      <td>False</td>\n",
              "      <td>False</td>\n",
              "    </tr>\n",
              "    <tr>\n",
              "      <th>4</th>\n",
              "      <td>False</td>\n",
              "      <td>False</td>\n",
              "      <td>False</td>\n",
              "      <td>False</td>\n",
              "      <td>False</td>\n",
              "      <td>False</td>\n",
              "      <td>False</td>\n",
              "      <td>False</td>\n",
              "      <td>False</td>\n",
              "      <td>False</td>\n",
              "      <td>False</td>\n",
              "      <td>False</td>\n",
              "      <td>False</td>\n",
              "      <td>False</td>\n",
              "    </tr>\n",
              "    <tr>\n",
              "      <th>...</th>\n",
              "      <td>...</td>\n",
              "      <td>...</td>\n",
              "      <td>...</td>\n",
              "      <td>...</td>\n",
              "      <td>...</td>\n",
              "      <td>...</td>\n",
              "      <td>...</td>\n",
              "      <td>...</td>\n",
              "      <td>...</td>\n",
              "      <td>...</td>\n",
              "      <td>...</td>\n",
              "      <td>...</td>\n",
              "      <td>...</td>\n",
              "      <td>...</td>\n",
              "    </tr>\n",
              "    <tr>\n",
              "      <th>8755</th>\n",
              "      <td>False</td>\n",
              "      <td>False</td>\n",
              "      <td>False</td>\n",
              "      <td>False</td>\n",
              "      <td>False</td>\n",
              "      <td>False</td>\n",
              "      <td>False</td>\n",
              "      <td>False</td>\n",
              "      <td>False</td>\n",
              "      <td>False</td>\n",
              "      <td>False</td>\n",
              "      <td>False</td>\n",
              "      <td>False</td>\n",
              "      <td>False</td>\n",
              "    </tr>\n",
              "    <tr>\n",
              "      <th>8756</th>\n",
              "      <td>False</td>\n",
              "      <td>False</td>\n",
              "      <td>False</td>\n",
              "      <td>False</td>\n",
              "      <td>False</td>\n",
              "      <td>False</td>\n",
              "      <td>False</td>\n",
              "      <td>False</td>\n",
              "      <td>False</td>\n",
              "      <td>False</td>\n",
              "      <td>False</td>\n",
              "      <td>False</td>\n",
              "      <td>False</td>\n",
              "      <td>False</td>\n",
              "    </tr>\n",
              "    <tr>\n",
              "      <th>8757</th>\n",
              "      <td>False</td>\n",
              "      <td>False</td>\n",
              "      <td>False</td>\n",
              "      <td>False</td>\n",
              "      <td>False</td>\n",
              "      <td>False</td>\n",
              "      <td>False</td>\n",
              "      <td>False</td>\n",
              "      <td>False</td>\n",
              "      <td>False</td>\n",
              "      <td>False</td>\n",
              "      <td>False</td>\n",
              "      <td>False</td>\n",
              "      <td>False</td>\n",
              "    </tr>\n",
              "    <tr>\n",
              "      <th>8758</th>\n",
              "      <td>False</td>\n",
              "      <td>False</td>\n",
              "      <td>False</td>\n",
              "      <td>False</td>\n",
              "      <td>False</td>\n",
              "      <td>False</td>\n",
              "      <td>False</td>\n",
              "      <td>False</td>\n",
              "      <td>False</td>\n",
              "      <td>False</td>\n",
              "      <td>False</td>\n",
              "      <td>False</td>\n",
              "      <td>False</td>\n",
              "      <td>False</td>\n",
              "    </tr>\n",
              "    <tr>\n",
              "      <th>8759</th>\n",
              "      <td>False</td>\n",
              "      <td>False</td>\n",
              "      <td>False</td>\n",
              "      <td>False</td>\n",
              "      <td>False</td>\n",
              "      <td>False</td>\n",
              "      <td>False</td>\n",
              "      <td>False</td>\n",
              "      <td>False</td>\n",
              "      <td>False</td>\n",
              "      <td>False</td>\n",
              "      <td>False</td>\n",
              "      <td>False</td>\n",
              "      <td>False</td>\n",
              "    </tr>\n",
              "  </tbody>\n",
              "</table>\n",
              "<p>8760 rows × 14 columns</p>\n",
              "</div>\n",
              "      <button class=\"colab-df-convert\" onclick=\"convertToInteractive('df-42cf101b-50e0-4f0b-9445-abba376d7da3')\"\n",
              "              title=\"Convert this dataframe to an interactive table.\"\n",
              "              style=\"display:none;\">\n",
              "        \n",
              "  <svg xmlns=\"http://www.w3.org/2000/svg\" height=\"24px\"viewBox=\"0 0 24 24\"\n",
              "       width=\"24px\">\n",
              "    <path d=\"M0 0h24v24H0V0z\" fill=\"none\"/>\n",
              "    <path d=\"M18.56 5.44l.94 2.06.94-2.06 2.06-.94-2.06-.94-.94-2.06-.94 2.06-2.06.94zm-11 1L8.5 8.5l.94-2.06 2.06-.94-2.06-.94L8.5 2.5l-.94 2.06-2.06.94zm10 10l.94 2.06.94-2.06 2.06-.94-2.06-.94-.94-2.06-.94 2.06-2.06.94z\"/><path d=\"M17.41 7.96l-1.37-1.37c-.4-.4-.92-.59-1.43-.59-.52 0-1.04.2-1.43.59L10.3 9.45l-7.72 7.72c-.78.78-.78 2.05 0 2.83L4 21.41c.39.39.9.59 1.41.59.51 0 1.02-.2 1.41-.59l7.78-7.78 2.81-2.81c.8-.78.8-2.07 0-2.86zM5.41 20L4 18.59l7.72-7.72 1.47 1.35L5.41 20z\"/>\n",
              "  </svg>\n",
              "      </button>\n",
              "      \n",
              "  <style>\n",
              "    .colab-df-container {\n",
              "      display:flex;\n",
              "      flex-wrap:wrap;\n",
              "      gap: 12px;\n",
              "    }\n",
              "\n",
              "    .colab-df-convert {\n",
              "      background-color: #E8F0FE;\n",
              "      border: none;\n",
              "      border-radius: 50%;\n",
              "      cursor: pointer;\n",
              "      display: none;\n",
              "      fill: #1967D2;\n",
              "      height: 32px;\n",
              "      padding: 0 0 0 0;\n",
              "      width: 32px;\n",
              "    }\n",
              "\n",
              "    .colab-df-convert:hover {\n",
              "      background-color: #E2EBFA;\n",
              "      box-shadow: 0px 1px 2px rgba(60, 64, 67, 0.3), 0px 1px 3px 1px rgba(60, 64, 67, 0.15);\n",
              "      fill: #174EA6;\n",
              "    }\n",
              "\n",
              "    [theme=dark] .colab-df-convert {\n",
              "      background-color: #3B4455;\n",
              "      fill: #D2E3FC;\n",
              "    }\n",
              "\n",
              "    [theme=dark] .colab-df-convert:hover {\n",
              "      background-color: #434B5C;\n",
              "      box-shadow: 0px 1px 3px 1px rgba(0, 0, 0, 0.15);\n",
              "      filter: drop-shadow(0px 1px 2px rgba(0, 0, 0, 0.3));\n",
              "      fill: #FFFFFF;\n",
              "    }\n",
              "  </style>\n",
              "\n",
              "      <script>\n",
              "        const buttonEl =\n",
              "          document.querySelector('#df-42cf101b-50e0-4f0b-9445-abba376d7da3 button.colab-df-convert');\n",
              "        buttonEl.style.display =\n",
              "          google.colab.kernel.accessAllowed ? 'block' : 'none';\n",
              "\n",
              "        async function convertToInteractive(key) {\n",
              "          const element = document.querySelector('#df-42cf101b-50e0-4f0b-9445-abba376d7da3');\n",
              "          const dataTable =\n",
              "            await google.colab.kernel.invokeFunction('convertToInteractive',\n",
              "                                                     [key], {});\n",
              "          if (!dataTable) return;\n",
              "\n",
              "          const docLinkHtml = 'Like what you see? Visit the ' +\n",
              "            '<a target=\"_blank\" href=https://colab.research.google.com/notebooks/data_table.ipynb>data table notebook</a>'\n",
              "            + ' to learn more about interactive tables.';\n",
              "          element.innerHTML = '';\n",
              "          dataTable['output_type'] = 'display_data';\n",
              "          await google.colab.output.renderOutput(dataTable, element);\n",
              "          const docLink = document.createElement('div');\n",
              "          docLink.innerHTML = docLinkHtml;\n",
              "          element.appendChild(docLink);\n",
              "        }\n",
              "      </script>\n",
              "    </div>\n",
              "  </div>\n",
              "  "
            ]
          },
          "metadata": {},
          "execution_count": 8
        }
      ]
    },
    {
      "cell_type": "code",
      "source": [
        "#looking for any missing values in each column\n",
        "dataset.isna().sum()"
      ],
      "metadata": {
        "colab": {
          "base_uri": "https://localhost:8080/"
        },
        "id": "7mVCe4zp8yHd",
        "outputId": "d5dd1dfd-9a35-43eb-f182-70103bd1fa75"
      },
      "execution_count": null,
      "outputs": [
        {
          "output_type": "execute_result",
          "data": {
            "text/plain": [
              "Date                         0\n",
              "Rented Bike Count            0\n",
              "Hour                         0\n",
              "Temperature(°C)              0\n",
              "Humidity(%)                  0\n",
              "Wind speed (m/s)             0\n",
              "Visibility (10m)             0\n",
              "Dew point temperature(°C)    0\n",
              "Solar Radiation (MJ/m2)      0\n",
              "Rainfall(mm)                 0\n",
              "Snowfall (cm)                0\n",
              "Seasons                      0\n",
              "Holiday                      0\n",
              "Functioning Day              0\n",
              "dtype: int64"
            ]
          },
          "metadata": {},
          "execution_count": 8
        }
      ]
    },
    {
      "cell_type": "code",
      "source": [
        "#data description\n",
        "dataset.describe()"
      ],
      "metadata": {
        "colab": {
          "base_uri": "https://localhost:8080/",
          "height": 361
        },
        "id": "My7K7--09iQu",
        "outputId": "66c01b65-85a0-41b5-92b4-76600464defb"
      },
      "execution_count": null,
      "outputs": [
        {
          "output_type": "execute_result",
          "data": {
            "text/plain": [
              "       Rented Bike Count         Hour  Temperature(°C)  Humidity(%)  \\\n",
              "count        8760.000000  8760.000000      8760.000000  8760.000000   \n",
              "mean          704.602055    11.500000        12.882922    58.226256   \n",
              "std           644.997468     6.922582        11.944825    20.362413   \n",
              "min             0.000000     0.000000       -17.800000     0.000000   \n",
              "25%           191.000000     5.750000         3.500000    42.000000   \n",
              "50%           504.500000    11.500000        13.700000    57.000000   \n",
              "75%          1065.250000    17.250000        22.500000    74.000000   \n",
              "max          3556.000000    23.000000        39.400000    98.000000   \n",
              "\n",
              "       Wind speed (m/s)  Visibility (10m)  Dew point temperature(°C)  \\\n",
              "count       8760.000000       8760.000000                8760.000000   \n",
              "mean           1.724909       1436.825799                   4.073813   \n",
              "std            1.036300        608.298712                  13.060369   \n",
              "min            0.000000         27.000000                 -30.600000   \n",
              "25%            0.900000        940.000000                  -4.700000   \n",
              "50%            1.500000       1698.000000                   5.100000   \n",
              "75%            2.300000       2000.000000                  14.800000   \n",
              "max            7.400000       2000.000000                  27.200000   \n",
              "\n",
              "       Solar Radiation (MJ/m2)  Rainfall(mm)  Snowfall (cm)  \n",
              "count              8760.000000   8760.000000    8760.000000  \n",
              "mean                  0.569111      0.148687       0.075068  \n",
              "std                   0.868746      1.128193       0.436746  \n",
              "min                   0.000000      0.000000       0.000000  \n",
              "25%                   0.000000      0.000000       0.000000  \n",
              "50%                   0.010000      0.000000       0.000000  \n",
              "75%                   0.930000      0.000000       0.000000  \n",
              "max                   3.520000     35.000000       8.800000  "
            ],
            "text/html": [
              "\n",
              "  <div id=\"df-70edb4a6-53a4-4d46-81fa-bb9ca145e0dc\">\n",
              "    <div class=\"colab-df-container\">\n",
              "      <div>\n",
              "<style scoped>\n",
              "    .dataframe tbody tr th:only-of-type {\n",
              "        vertical-align: middle;\n",
              "    }\n",
              "\n",
              "    .dataframe tbody tr th {\n",
              "        vertical-align: top;\n",
              "    }\n",
              "\n",
              "    .dataframe thead th {\n",
              "        text-align: right;\n",
              "    }\n",
              "</style>\n",
              "<table border=\"1\" class=\"dataframe\">\n",
              "  <thead>\n",
              "    <tr style=\"text-align: right;\">\n",
              "      <th></th>\n",
              "      <th>Rented Bike Count</th>\n",
              "      <th>Hour</th>\n",
              "      <th>Temperature(°C)</th>\n",
              "      <th>Humidity(%)</th>\n",
              "      <th>Wind speed (m/s)</th>\n",
              "      <th>Visibility (10m)</th>\n",
              "      <th>Dew point temperature(°C)</th>\n",
              "      <th>Solar Radiation (MJ/m2)</th>\n",
              "      <th>Rainfall(mm)</th>\n",
              "      <th>Snowfall (cm)</th>\n",
              "    </tr>\n",
              "  </thead>\n",
              "  <tbody>\n",
              "    <tr>\n",
              "      <th>count</th>\n",
              "      <td>8760.000000</td>\n",
              "      <td>8760.000000</td>\n",
              "      <td>8760.000000</td>\n",
              "      <td>8760.000000</td>\n",
              "      <td>8760.000000</td>\n",
              "      <td>8760.000000</td>\n",
              "      <td>8760.000000</td>\n",
              "      <td>8760.000000</td>\n",
              "      <td>8760.000000</td>\n",
              "      <td>8760.000000</td>\n",
              "    </tr>\n",
              "    <tr>\n",
              "      <th>mean</th>\n",
              "      <td>704.602055</td>\n",
              "      <td>11.500000</td>\n",
              "      <td>12.882922</td>\n",
              "      <td>58.226256</td>\n",
              "      <td>1.724909</td>\n",
              "      <td>1436.825799</td>\n",
              "      <td>4.073813</td>\n",
              "      <td>0.569111</td>\n",
              "      <td>0.148687</td>\n",
              "      <td>0.075068</td>\n",
              "    </tr>\n",
              "    <tr>\n",
              "      <th>std</th>\n",
              "      <td>644.997468</td>\n",
              "      <td>6.922582</td>\n",
              "      <td>11.944825</td>\n",
              "      <td>20.362413</td>\n",
              "      <td>1.036300</td>\n",
              "      <td>608.298712</td>\n",
              "      <td>13.060369</td>\n",
              "      <td>0.868746</td>\n",
              "      <td>1.128193</td>\n",
              "      <td>0.436746</td>\n",
              "    </tr>\n",
              "    <tr>\n",
              "      <th>min</th>\n",
              "      <td>0.000000</td>\n",
              "      <td>0.000000</td>\n",
              "      <td>-17.800000</td>\n",
              "      <td>0.000000</td>\n",
              "      <td>0.000000</td>\n",
              "      <td>27.000000</td>\n",
              "      <td>-30.600000</td>\n",
              "      <td>0.000000</td>\n",
              "      <td>0.000000</td>\n",
              "      <td>0.000000</td>\n",
              "    </tr>\n",
              "    <tr>\n",
              "      <th>25%</th>\n",
              "      <td>191.000000</td>\n",
              "      <td>5.750000</td>\n",
              "      <td>3.500000</td>\n",
              "      <td>42.000000</td>\n",
              "      <td>0.900000</td>\n",
              "      <td>940.000000</td>\n",
              "      <td>-4.700000</td>\n",
              "      <td>0.000000</td>\n",
              "      <td>0.000000</td>\n",
              "      <td>0.000000</td>\n",
              "    </tr>\n",
              "    <tr>\n",
              "      <th>50%</th>\n",
              "      <td>504.500000</td>\n",
              "      <td>11.500000</td>\n",
              "      <td>13.700000</td>\n",
              "      <td>57.000000</td>\n",
              "      <td>1.500000</td>\n",
              "      <td>1698.000000</td>\n",
              "      <td>5.100000</td>\n",
              "      <td>0.010000</td>\n",
              "      <td>0.000000</td>\n",
              "      <td>0.000000</td>\n",
              "    </tr>\n",
              "    <tr>\n",
              "      <th>75%</th>\n",
              "      <td>1065.250000</td>\n",
              "      <td>17.250000</td>\n",
              "      <td>22.500000</td>\n",
              "      <td>74.000000</td>\n",
              "      <td>2.300000</td>\n",
              "      <td>2000.000000</td>\n",
              "      <td>14.800000</td>\n",
              "      <td>0.930000</td>\n",
              "      <td>0.000000</td>\n",
              "      <td>0.000000</td>\n",
              "    </tr>\n",
              "    <tr>\n",
              "      <th>max</th>\n",
              "      <td>3556.000000</td>\n",
              "      <td>23.000000</td>\n",
              "      <td>39.400000</td>\n",
              "      <td>98.000000</td>\n",
              "      <td>7.400000</td>\n",
              "      <td>2000.000000</td>\n",
              "      <td>27.200000</td>\n",
              "      <td>3.520000</td>\n",
              "      <td>35.000000</td>\n",
              "      <td>8.800000</td>\n",
              "    </tr>\n",
              "  </tbody>\n",
              "</table>\n",
              "</div>\n",
              "      <button class=\"colab-df-convert\" onclick=\"convertToInteractive('df-70edb4a6-53a4-4d46-81fa-bb9ca145e0dc')\"\n",
              "              title=\"Convert this dataframe to an interactive table.\"\n",
              "              style=\"display:none;\">\n",
              "        \n",
              "  <svg xmlns=\"http://www.w3.org/2000/svg\" height=\"24px\"viewBox=\"0 0 24 24\"\n",
              "       width=\"24px\">\n",
              "    <path d=\"M0 0h24v24H0V0z\" fill=\"none\"/>\n",
              "    <path d=\"M18.56 5.44l.94 2.06.94-2.06 2.06-.94-2.06-.94-.94-2.06-.94 2.06-2.06.94zm-11 1L8.5 8.5l.94-2.06 2.06-.94-2.06-.94L8.5 2.5l-.94 2.06-2.06.94zm10 10l.94 2.06.94-2.06 2.06-.94-2.06-.94-.94-2.06-.94 2.06-2.06.94z\"/><path d=\"M17.41 7.96l-1.37-1.37c-.4-.4-.92-.59-1.43-.59-.52 0-1.04.2-1.43.59L10.3 9.45l-7.72 7.72c-.78.78-.78 2.05 0 2.83L4 21.41c.39.39.9.59 1.41.59.51 0 1.02-.2 1.41-.59l7.78-7.78 2.81-2.81c.8-.78.8-2.07 0-2.86zM5.41 20L4 18.59l7.72-7.72 1.47 1.35L5.41 20z\"/>\n",
              "  </svg>\n",
              "      </button>\n",
              "      \n",
              "  <style>\n",
              "    .colab-df-container {\n",
              "      display:flex;\n",
              "      flex-wrap:wrap;\n",
              "      gap: 12px;\n",
              "    }\n",
              "\n",
              "    .colab-df-convert {\n",
              "      background-color: #E8F0FE;\n",
              "      border: none;\n",
              "      border-radius: 50%;\n",
              "      cursor: pointer;\n",
              "      display: none;\n",
              "      fill: #1967D2;\n",
              "      height: 32px;\n",
              "      padding: 0 0 0 0;\n",
              "      width: 32px;\n",
              "    }\n",
              "\n",
              "    .colab-df-convert:hover {\n",
              "      background-color: #E2EBFA;\n",
              "      box-shadow: 0px 1px 2px rgba(60, 64, 67, 0.3), 0px 1px 3px 1px rgba(60, 64, 67, 0.15);\n",
              "      fill: #174EA6;\n",
              "    }\n",
              "\n",
              "    [theme=dark] .colab-df-convert {\n",
              "      background-color: #3B4455;\n",
              "      fill: #D2E3FC;\n",
              "    }\n",
              "\n",
              "    [theme=dark] .colab-df-convert:hover {\n",
              "      background-color: #434B5C;\n",
              "      box-shadow: 0px 1px 3px 1px rgba(0, 0, 0, 0.15);\n",
              "      filter: drop-shadow(0px 1px 2px rgba(0, 0, 0, 0.3));\n",
              "      fill: #FFFFFF;\n",
              "    }\n",
              "  </style>\n",
              "\n",
              "      <script>\n",
              "        const buttonEl =\n",
              "          document.querySelector('#df-70edb4a6-53a4-4d46-81fa-bb9ca145e0dc button.colab-df-convert');\n",
              "        buttonEl.style.display =\n",
              "          google.colab.kernel.accessAllowed ? 'block' : 'none';\n",
              "\n",
              "        async function convertToInteractive(key) {\n",
              "          const element = document.querySelector('#df-70edb4a6-53a4-4d46-81fa-bb9ca145e0dc');\n",
              "          const dataTable =\n",
              "            await google.colab.kernel.invokeFunction('convertToInteractive',\n",
              "                                                     [key], {});\n",
              "          if (!dataTable) return;\n",
              "\n",
              "          const docLinkHtml = 'Like what you see? Visit the ' +\n",
              "            '<a target=\"_blank\" href=https://colab.research.google.com/notebooks/data_table.ipynb>data table notebook</a>'\n",
              "            + ' to learn more about interactive tables.';\n",
              "          element.innerHTML = '';\n",
              "          dataTable['output_type'] = 'display_data';\n",
              "          await google.colab.output.renderOutput(dataTable, element);\n",
              "          const docLink = document.createElement('div');\n",
              "          docLink.innerHTML = docLinkHtml;\n",
              "          element.appendChild(docLink);\n",
              "        }\n",
              "      </script>\n",
              "    </div>\n",
              "  </div>\n",
              "  "
            ]
          },
          "metadata": {},
          "execution_count": 9
        }
      ]
    },
    {
      "cell_type": "code",
      "source": [
        "#reading all columns\n",
        "dataset.columns"
      ],
      "metadata": {
        "colab": {
          "base_uri": "https://localhost:8080/"
        },
        "id": "60DVJ_4mwCga",
        "outputId": "93a38f6f-fd69-413d-cde5-ac743ca21ec9"
      },
      "execution_count": null,
      "outputs": [
        {
          "output_type": "execute_result",
          "data": {
            "text/plain": [
              "Index(['Date', 'Rented Bike Count', 'Hour', 'Temperature(°C)', 'Humidity(%)',\n",
              "       'Wind speed (m/s)', 'Visibility (10m)', 'Dew point temperature(°C)',\n",
              "       'Solar Radiation (MJ/m2)', 'Rainfall(mm)', 'Snowfall (cm)', 'Seasons',\n",
              "       'Holiday', 'Functioning Day'],\n",
              "      dtype='object')"
            ]
          },
          "metadata": {},
          "execution_count": 10
        }
      ]
    },
    {
      "cell_type": "code",
      "source": [
        "#print the plot to analyze the relation between Temperature(°C) and Rented Bike Count\n",
        "dataset.groupby('Temperature(°C)' ).mean()['Rented Bike Count'].plot()"
      ],
      "metadata": {
        "colab": {
          "base_uri": "https://localhost:8080/",
          "height": 298
        },
        "id": "WlNFFknvQ8qg",
        "outputId": "256a161a-5619-4d5d-c93c-1596fc2f9d37"
      },
      "execution_count": null,
      "outputs": [
        {
          "output_type": "execute_result",
          "data": {
            "text/plain": [
              "<matplotlib.axes._subplots.AxesSubplot at 0x7f85309670a0>"
            ]
          },
          "metadata": {},
          "execution_count": 11
        },
        {
          "output_type": "display_data",
          "data": {
            "text/plain": [
              "<Figure size 432x288 with 1 Axes>"
            ],
            "image/png": "[encoded data removed]"
          },
          "metadata": {
            "needs_background": "light"
          }
        }
      ]
    },
    {
      "cell_type": "code",
      "source": [
        "#print the plot to analyze the relation between Solar Radiation (MJ/m2) and Rented Bike Count\n",
        "dataset.groupby('Solar Radiation (MJ/m2)' ).mean()['Rented Bike Count'].plot()"
      ],
      "metadata": {
        "colab": {
          "base_uri": "https://localhost:8080/",
          "height": 297
        },
        "id": "FLip3yK6GVRe",
        "outputId": "8cf49161-b7db-48d3-833b-d39dbd60a085"
      },
      "execution_count": null,
      "outputs": [
        {
          "output_type": "execute_result",
          "data": {
            "text/plain": [
              "<matplotlib.axes._subplots.AxesSubplot at 0x7f8530a3be80>"
            ]
          },
          "metadata": {},
          "execution_count": 12
        },
        {
          "output_type": "display_data",
          "data": {
            "text/plain": [
              "<Figure size 432x288 with 1 Axes>"
            ],
            "image/png": "[encoded data removed]"
          },
          "metadata": {
            "needs_background": "light"
          }
        }
      ]
    },
    {
      "cell_type": "code",
      "source": [
        "#print the plot to analyze the relation between Snowfall (cm) and Rented Bike Count\n",
        "dataset.groupby('Snowfall (cm)' ).mean()['Rented Bike Count'].plot()"
      ],
      "metadata": {
        "colab": {
          "base_uri": "https://localhost:8080/",
          "height": 297
        },
        "id": "Of6wDU9VGnaG",
        "outputId": "1a662f02-0172-4053-a78c-039ba36d7da9"
      },
      "execution_count": null,
      "outputs": [
        {
          "output_type": "execute_result",
          "data": {
            "text/plain": [
              "<matplotlib.axes._subplots.AxesSubplot at 0x7f8530463cd0>"
            ]
          },
          "metadata": {},
          "execution_count": 13
        },
        {
          "output_type": "display_data",
          "data": {
            "text/plain": [
              "<Figure size 432x288 with 1 Axes>"
            ],
            "image/png": "[encoded data removed]"
          },
          "metadata": {
            "needs_background": "light"
          }
        }
      ]
    },
    {
      "cell_type": "code",
      "source": [
        "#print the plot to analyze the relation between Rainfall(mm) and Rented Bike Count\n",
        "dataset.groupby('Rainfall(mm)').mean()['Rented Bike Count'].plot()"
      ],
      "metadata": {
        "colab": {
          "base_uri": "https://localhost:8080/",
          "height": 301
        },
        "id": "GArSXcjvKZ4H",
        "outputId": "6d2d333e-9b1e-46fa-f9be-458f5ca2cc32"
      },
      "execution_count": null,
      "outputs": [
        {
          "output_type": "execute_result",
          "data": {
            "text/plain": [
              "<matplotlib.axes._subplots.AxesSubplot at 0x7f85303a2940>"
            ]
          },
          "metadata": {},
          "execution_count": 14
        },
        {
          "output_type": "display_data",
          "data": {
            "text/plain": [
              "<Figure size 432x288 with 1 Axes>"
            ],
            "image/png": "[encoded data removed]"
          },
          "metadata": {
            "needs_background": "light"
          }
        }
      ]
    },
    {
      "cell_type": "code",
      "source": [
        "#print the plot to analyze the relation between Wind speed (m/s) and Rented Bike Count\n",
        "dataset.groupby('Wind speed (m/s)').mean()['Rented Bike Count'].plot()"
      ],
      "metadata": {
        "colab": {
          "base_uri": "https://localhost:8080/",
          "height": 297
        },
        "id": "0ENru5ipKt18",
        "outputId": "f2de2343-fa59-4acc-c406-28887903f870"
      },
      "execution_count": null,
      "outputs": [
        {
          "output_type": "execute_result",
          "data": {
            "text/plain": [
              "<matplotlib.axes._subplots.AxesSubplot at 0x7f85302dfe80>"
            ]
          },
          "metadata": {},
          "execution_count": 16
        },
        {
          "output_type": "display_data",
          "data": {
            "text/plain": [
              "<Figure size 432x288 with 1 Axes>"
            ],
            "image/png": "[encoded data removed]"
          },
          "metadata": {
            "needs_background": "light"
          }
        }
      ]
    },
    {
      "cell_type": "code",
      "source": [
        "numerical_features= ('Rainfall(mm)','Snowfall (cm)','Temperature(°C)','Humidity(%)','Wind speed (m/s)')"
      ],
      "metadata": {
        "id": "xbXx4YVqYaRS"
      },
      "execution_count": null,
      "outputs": []
    },
    {
      "cell_type": "code",
      "source": [
        "#print regression plot for numerical features\n",
        "for col in numerical_features:\n",
        "  fig,ax=plt.subplots(figsize=(10,6))\n",
        "  sns.regplot(x=dataset[col],y=dataset['Rented Bike Count'],scatter_kws={\"color\":\"pink\"},line_kws={\"color\":\"black\"})"
      ],
      "metadata": {
        "id": "E2KCgiCzEZS2",
        "colab": {
          "base_uri": "https://localhost:8080/",
          "height": 1000
        },
        "outputId": "d3be8e36-7f4c-417c-fc55-d16a5a52d0cd"
      },
      "execution_count": null,
      "outputs": [
        {
          "output_type": "display_data",
          "data": {
            "text/plain": [
              "<Figure size 720x432 with 1 Axes>"
            ],
            "image/png": "[encoded data removed]"
          },
          "metadata": {
            "needs_background": "light"
          }
        },
        {
          "output_type": "display_data",
          "data": {
            "text/plain": [
              "<Figure size 720x432 with 1 Axes>"
            ],
            "image/png": "[encoded data removed]"
          },
          "metadata": {
            "needs_background": "light"
          }
        },
        {
          "output_type": "display_data",
          "data": {
            "text/plain": [
              "<Figure size 720x432 with 1 Axes>"
            ],
            "image/png": "[encoded data removed]"
          },
          "metadata": {
            "needs_background": "light"
          }
        },
        {
          "output_type": "display_data",
          "data": {
            "text/plain": [
              "<Figure size 720x432 with 1 Axes>"
            ],
            "image/png": "[encoded data removed]"
          },
          "metadata": {
            "needs_background": "light"
          }
        },
        {
          "output_type": "display_data",
          "data": {
            "text/plain": [
              "<Figure size 720x432 with 1 Axes>"
            ],
            "image/png": "[encoded data removed]"
          },
          "metadata": {
            "needs_background": "light"
          }
        }
      ]
    },
    {
      "cell_type": "code",
      "source": [
        "plt.figure()\n",
        "sns.distplot(dataset['Hour'])\n"
      ],
      "metadata": {
        "colab": {
          "base_uri": "https://localhost:8080/",
          "height": 354
        },
        "id": "wx0ee5pgRulL",
        "outputId": "aab31139-5060-4ff0-c027-1c8d15396ee4"
      },
      "execution_count": null,
      "outputs": [
        {
          "output_type": "stream",
          "name": "stderr",
          "text": [
            "/usr/local/lib/python3.8/dist-packages/seaborn/distributions.py:2619: FutureWarning: `distplot` is a deprecated function and will be removed in a future version. Please adapt your code to use either `displot` (a figure-level function with similar flexibility) or `histplot` (an axes-level function for histograms).\n",
            "  warnings.warn(msg, FutureWarning)\n"
          ]
        },
        {
          "output_type": "execute_result",
          "data": {
            "text/plain": [
              "<matplotlib.axes._subplots.AxesSubplot at 0x7f85302b2cd0>"
            ]
          },
          "metadata": {},
          "execution_count": 20
        },
        {
          "output_type": "display_data",
          "data": {
            "text/plain": [
              "<Figure size 432x288 with 1 Axes>"
            ],
            "image/png": "[encoded data removed]"
          },
          "metadata": {
            "needs_background": "light"
          }
        }
      ]
    },
    {
      "cell_type": "code",
      "source": [
        "plt.figure()\n",
        "sns.distplot(dataset['Temperature(°C)'])\n",
        "plt.savefig('count.jpg')\n"
      ],
      "metadata": {
        "colab": {
          "base_uri": "https://localhost:8080/",
          "height": 336
        },
        "id": "mBZF1s8gSK_9",
        "outputId": "2d9c21f7-345f-4eed-f68b-59cab1257aed"
      },
      "execution_count": null,
      "outputs": [
        {
          "output_type": "stream",
          "name": "stderr",
          "text": [
            "/usr/local/lib/python3.8/dist-packages/seaborn/distributions.py:2619: FutureWarning: `distplot` is a deprecated function and will be removed in a future version. Please adapt your code to use either `displot` (a figure-level function with similar flexibility) or `histplot` (an axes-level function for histograms).\n",
            "  warnings.warn(msg, FutureWarning)\n"
          ]
        },
        {
          "output_type": "display_data",
          "data": {
            "text/plain": [
              "<Figure size 432x288 with 1 Axes>"
            ],
            "image/png": "[encoded data removed]"
          },
          "metadata": {
            "needs_background": "light"
          }
        }
      ]
    },
    {
      "cell_type": "code",
      "source": [
        "plt.figure()\n",
        "sns.distplot(dataset['Humidity(%)'])\n"
      ],
      "metadata": {
        "colab": {
          "base_uri": "https://localhost:8080/",
          "height": 354
        },
        "id": "LFXrQYhhSeQH",
        "outputId": "df6ccc59-06cd-4848-c0c5-53de16393db2"
      },
      "execution_count": null,
      "outputs": [
        {
          "output_type": "stream",
          "name": "stderr",
          "text": [
            "/usr/local/lib/python3.8/dist-packages/seaborn/distributions.py:2619: FutureWarning: `distplot` is a deprecated function and will be removed in a future version. Please adapt your code to use either `displot` (a figure-level function with similar flexibility) or `histplot` (an axes-level function for histograms).\n",
            "  warnings.warn(msg, FutureWarning)\n"
          ]
        },
        {
          "output_type": "execute_result",
          "data": {
            "text/plain": [
              "<matplotlib.axes._subplots.AxesSubplot at 0x7f852bf5b460>"
            ]
          },
          "metadata": {},
          "execution_count": 22
        },
        {
          "output_type": "display_data",
          "data": {
            "text/plain": [
              "<Figure size 432x288 with 1 Axes>"
            ],
            "image/png": "[encoded data removed]"
          },
          "metadata": {
            "needs_background": "light"
          }
        }
      ]
    },
    {
      "cell_type": "code",
      "source": [
        "plt.figure()\n",
        "sns.distplot(dataset['Wind speed (m/s)'])\n",
        "\n"
      ],
      "metadata": {
        "colab": {
          "base_uri": "https://localhost:8080/",
          "height": 354
        },
        "id": "kQPOMSXBSt9v",
        "outputId": "ff42b837-ab4c-4495-bfde-418ae2abb64f"
      },
      "execution_count": null,
      "outputs": [
        {
          "output_type": "stream",
          "name": "stderr",
          "text": [
            "/usr/local/lib/python3.8/dist-packages/seaborn/distributions.py:2619: FutureWarning: `distplot` is a deprecated function and will be removed in a future version. Please adapt your code to use either `displot` (a figure-level function with similar flexibility) or `histplot` (an axes-level function for histograms).\n",
            "  warnings.warn(msg, FutureWarning)\n"
          ]
        },
        {
          "output_type": "execute_result",
          "data": {
            "text/plain": [
              "<matplotlib.axes._subplots.AxesSubplot at 0x7f852d858520>"
            ]
          },
          "metadata": {},
          "execution_count": 23
        },
        {
          "output_type": "display_data",
          "data": {
            "text/plain": [
              "<Figure size 432x288 with 1 Axes>"
            ],
            "image/png": "[encoded data removed]"
          },
          "metadata": {
            "needs_background": "light"
          }
        }
      ]
    },
    {
      "cell_type": "code",
      "source": [
        "plt.figure()\n",
        "sns.distplot(dataset['Visibility (10m)'])\n"
      ],
      "metadata": {
        "colab": {
          "base_uri": "https://localhost:8080/",
          "height": 354
        },
        "id": "3NI1tOUlU9aV",
        "outputId": "a0627f1a-8c91-45a5-9597-3599bd8c97c2"
      },
      "execution_count": null,
      "outputs": [
        {
          "output_type": "stream",
          "name": "stderr",
          "text": [
            "/usr/local/lib/python3.8/dist-packages/seaborn/distributions.py:2619: FutureWarning: `distplot` is a deprecated function and will be removed in a future version. Please adapt your code to use either `displot` (a figure-level function with similar flexibility) or `histplot` (an axes-level function for histograms).\n",
            "  warnings.warn(msg, FutureWarning)\n"
          ]
        },
        {
          "output_type": "execute_result",
          "data": {
            "text/plain": [
              "<matplotlib.axes._subplots.AxesSubplot at 0x7f853039f700>"
            ]
          },
          "metadata": {},
          "execution_count": 24
        },
        {
          "output_type": "display_data",
          "data": {
            "text/plain": [
              "<Figure size 432x288 with 1 Axes>"
            ],
            "image/png": "[encoded data removed]"
          },
          "metadata": {
            "needs_background": "light"
          }
        }
      ]
    },
    {
      "cell_type": "code",
      "source": [
        "#checking for skewness because Rented Bike Count is our target variable\n",
        "plt.figure()\n",
        "sns.distplot(dataset['Rented Bike Count'])\n",
        "\n",
        "\n",
        "\n"
      ],
      "metadata": {
        "colab": {
          "base_uri": "https://localhost:8080/",
          "height": 354
        },
        "id": "ojtoFeEG-eiK",
        "outputId": "092b6ebc-51c2-4144-af7c-e44d1966796d"
      },
      "execution_count": null,
      "outputs": [
        {
          "output_type": "stream",
          "name": "stderr",
          "text": [
            "/usr/local/lib/python3.8/dist-packages/seaborn/distributions.py:2619: FutureWarning: `distplot` is a deprecated function and will be removed in a future version. Please adapt your code to use either `displot` (a figure-level function with similar flexibility) or `histplot` (an axes-level function for histograms).\n",
            "  warnings.warn(msg, FutureWarning)\n"
          ]
        },
        {
          "output_type": "execute_result",
          "data": {
            "text/plain": [
              "<matplotlib.axes._subplots.AxesSubplot at 0x7f852da057c0>"
            ]
          },
          "metadata": {},
          "execution_count": 25
        },
        {
          "output_type": "display_data",
          "data": {
            "text/plain": [
              "<Figure size 432x288 with 1 Axes>"
            ],
            "image/png": "[encoded data removed]"
          },
          "metadata": {
            "needs_background": "light"
          }
        }
      ]
    },
    {
      "cell_type": "code",
      "source": [
        "#checking outliers using boxplot\n",
        "plt.figure\n",
        "sns.boxplot(dataset['Rented Bike Count'],color='red')"
      ],
      "metadata": {
        "colab": {
          "base_uri": "https://localhost:8080/",
          "height": 354
        },
        "id": "EibN4iHcDmjn",
        "outputId": "fac0272f-0740-49e0-9135-4d595f2dabbf"
      },
      "execution_count": null,
      "outputs": [
        {
          "output_type": "stream",
          "name": "stderr",
          "text": [
            "/usr/local/lib/python3.8/dist-packages/seaborn/_decorators.py:36: FutureWarning: Pass the following variable as a keyword arg: x. From version 0.12, the only valid positional argument will be `data`, and passing other arguments without an explicit keyword will result in an error or misinterpretation.\n",
            "  warnings.warn(\n"
          ]
        },
        {
          "output_type": "execute_result",
          "data": {
            "text/plain": [
              "<matplotlib.axes._subplots.AxesSubplot at 0x7f852d92e520>"
            ]
          },
          "metadata": {},
          "execution_count": 26
        },
        {
          "output_type": "display_data",
          "data": {
            "text/plain": [
              "<Figure size 432x288 with 1 Axes>"
            ],
            "image/png": "[encoded data removed]"
          },
          "metadata": {
            "needs_background": "light"
          }
        }
      ]
    },
    {
      "cell_type": "code",
      "source": [
        "#performing log transformation because dataset is right skewed\n",
        "plt.figure()\n",
        "sns.distplot(np.log1p(dataset['Rented Bike Count']),color='orange')"
      ],
      "metadata": {
        "colab": {
          "base_uri": "https://localhost:8080/",
          "height": 354
        },
        "id": "Sr2T2q-mEdZp",
        "outputId": "caa59d91-110c-4dd6-fcb4-917476c0550a"
      },
      "execution_count": null,
      "outputs": [
        {
          "output_type": "stream",
          "name": "stderr",
          "text": [
            "/usr/local/lib/python3.8/dist-packages/seaborn/distributions.py:2619: FutureWarning: `distplot` is a deprecated function and will be removed in a future version. Please adapt your code to use either `displot` (a figure-level function with similar flexibility) or `histplot` (an axes-level function for histograms).\n",
            "  warnings.warn(msg, FutureWarning)\n"
          ]
        },
        {
          "output_type": "execute_result",
          "data": {
            "text/plain": [
              "<matplotlib.axes._subplots.AxesSubplot at 0x7f852bd56940>"
            ]
          },
          "metadata": {},
          "execution_count": 27
        },
        {
          "output_type": "display_data",
          "data": {
            "text/plain": [
              "<Figure size 432x288 with 1 Axes>"
            ],
            "image/png": "[encoded data removed]"
          },
          "metadata": {
            "needs_background": "light"
          }
        }
      ]
    },
    {
      "cell_type": "code",
      "source": [
        "#Again checking for outliers after log transformation using boxplot\n",
        "plt.figure()\n",
        "sns.boxplot(np.log1p(dataset['Rented Bike Count']),color='red')"
      ],
      "metadata": {
        "colab": {
          "base_uri": "https://localhost:8080/",
          "height": 354
        },
        "id": "YWcQwAJ5GQiK",
        "outputId": "ff2b2b02-a3b2-491e-b7c5-b70656bf7328"
      },
      "execution_count": null,
      "outputs": [
        {
          "output_type": "stream",
          "name": "stderr",
          "text": [
            "/usr/local/lib/python3.8/dist-packages/seaborn/_decorators.py:36: FutureWarning: Pass the following variable as a keyword arg: x. From version 0.12, the only valid positional argument will be `data`, and passing other arguments without an explicit keyword will result in an error or misinterpretation.\n",
            "  warnings.warn(\n"
          ]
        },
        {
          "output_type": "execute_result",
          "data": {
            "text/plain": [
              "<matplotlib.axes._subplots.AxesSubplot at 0x7f852bdc4160>"
            ]
          },
          "metadata": {},
          "execution_count": 28
        },
        {
          "output_type": "display_data",
          "data": {
            "text/plain": [
              "<Figure size 432x288 with 1 Axes>"
            ],
            "image/png": "[encoded data removed]"
          },
          "metadata": {
            "needs_background": "light"
          }
        }
      ]
    },
    {
      "cell_type": "code",
      "source": [
        "#Using square root transformation to treat skewness \n",
        "plt.figure()\n",
        "plt.xlabel('Rented Bike Count')\n",
        "plt.ylabel('Density')\n",
        "sns.distplot(np.sqrt(dataset['Rented Bike Count']))"
      ],
      "metadata": {
        "colab": {
          "base_uri": "https://localhost:8080/",
          "height": 354
        },
        "id": "LkWBoMKCT5UF",
        "outputId": "47b1aef7-07d5-4767-f21f-f8deb628a6dd"
      },
      "execution_count": null,
      "outputs": [
        {
          "output_type": "stream",
          "name": "stderr",
          "text": [
            "/usr/local/lib/python3.8/dist-packages/seaborn/distributions.py:2619: FutureWarning: `distplot` is a deprecated function and will be removed in a future version. Please adapt your code to use either `displot` (a figure-level function with similar flexibility) or `histplot` (an axes-level function for histograms).\n",
            "  warnings.warn(msg, FutureWarning)\n"
          ]
        },
        {
          "output_type": "execute_result",
          "data": {
            "text/plain": [
              "<matplotlib.axes._subplots.AxesSubplot at 0x7f852bcaa940>"
            ]
          },
          "metadata": {},
          "execution_count": 29
        },
        {
          "output_type": "display_data",
          "data": {
            "text/plain": [
              "<Figure size 432x288 with 1 Axes>"
            ],
            "image/png": "[encoded data removed]"
          },
          "metadata": {
            "needs_background": "light"
          }
        }
      ]
    },
    {
      "cell_type": "code",
      "source": [
        "#using boxplot method to check if any outliers still there after square root transformation\n",
        "plt.figure()\n",
        "sns.boxplot(np.sqrt(dataset['Rented Bike Count']),color='skyblue')"
      ],
      "metadata": {
        "colab": {
          "base_uri": "https://localhost:8080/",
          "height": 354
        },
        "id": "BZ4nc1M2Va_M",
        "outputId": "d98bb9d6-3063-41cd-d3fd-31d0101e18cd"
      },
      "execution_count": null,
      "outputs": [
        {
          "output_type": "stream",
          "name": "stderr",
          "text": [
            "/usr/local/lib/python3.8/dist-packages/seaborn/_decorators.py:36: FutureWarning: Pass the following variable as a keyword arg: x. From version 0.12, the only valid positional argument will be `data`, and passing other arguments without an explicit keyword will result in an error or misinterpretation.\n",
            "  warnings.warn(\n"
          ]
        },
        {
          "output_type": "execute_result",
          "data": {
            "text/plain": [
              "<matplotlib.axes._subplots.AxesSubplot at 0x7f852be88700>"
            ]
          },
          "metadata": {},
          "execution_count": 30
        },
        {
          "output_type": "display_data",
          "data": {
            "text/plain": [
              "<Figure size 432x288 with 1 Axes>"
            ],
            "image/png": "[encoded data removed]"
          },
          "metadata": {
            "needs_background": "light"
          }
        }
      ]
    },
    {
      "cell_type": "code",
      "source": [
        "dataset.corr()"
      ],
      "metadata": {
        "colab": {
          "base_uri": "https://localhost:8080/",
          "height": 459
        },
        "id": "SAW-N3SRbjlO",
        "outputId": "590cd21f-861f-4adf-ff7a-39f81ac882ab"
      },
      "execution_count": null,
      "outputs": [
        {
          "output_type": "execute_result",
          "data": {
            "text/plain": [
              "                           Rented Bike Count      Hour  Temperature(°C)  \\\n",
              "Rented Bike Count                   1.000000  0.410257         0.538558   \n",
              "Hour                                0.410257  1.000000         0.124114   \n",
              "Temperature(°C)                     0.538558  0.124114         1.000000   \n",
              "Humidity(%)                        -0.199780 -0.241644         0.159371   \n",
              "Wind speed (m/s)                    0.121108  0.285197        -0.036252   \n",
              "Visibility (10m)                    0.199280  0.098753         0.034794   \n",
              "Dew point temperature(°C)           0.379788  0.003054         0.912798   \n",
              "Solar Radiation (MJ/m2)             0.261837  0.145131         0.353505   \n",
              "Rainfall(mm)                       -0.123074  0.008715         0.050282   \n",
              "Snowfall (cm)                      -0.141804 -0.021516        -0.218405   \n",
              "\n",
              "                           Humidity(%)  Wind speed (m/s)  Visibility (10m)  \\\n",
              "Rented Bike Count            -0.199780          0.121108          0.199280   \n",
              "Hour                         -0.241644          0.285197          0.098753   \n",
              "Temperature(°C)               0.159371         -0.036252          0.034794   \n",
              "Humidity(%)                   1.000000         -0.336683         -0.543090   \n",
              "Wind speed (m/s)             -0.336683          1.000000          0.171507   \n",
              "Visibility (10m)             -0.543090          0.171507          1.000000   \n",
              "Dew point temperature(°C)     0.536894         -0.176486         -0.176630   \n",
              "Solar Radiation (MJ/m2)      -0.461919          0.332274          0.149738   \n",
              "Rainfall(mm)                  0.236397         -0.019674         -0.167629   \n",
              "Snowfall (cm)                 0.108183         -0.003554         -0.121695   \n",
              "\n",
              "                           Dew point temperature(°C)  Solar Radiation (MJ/m2)  \\\n",
              "Rented Bike Count                           0.379788                 0.261837   \n",
              "Hour                                        0.003054                 0.145131   \n",
              "Temperature(°C)                             0.912798                 0.353505   \n",
              "Humidity(%)                                 0.536894                -0.461919   \n",
              "Wind speed (m/s)                           -0.176486                 0.332274   \n",
              "Visibility (10m)                           -0.176630                 0.149738   \n",
              "Dew point temperature(°C)                   1.000000                 0.094381   \n",
              "Solar Radiation (MJ/m2)                     0.094381                 1.000000   \n",
              "Rainfall(mm)                                0.125597                -0.074290   \n",
              "Snowfall (cm)                              -0.150887                -0.072301   \n",
              "\n",
              "                           Rainfall(mm)  Snowfall (cm)  \n",
              "Rented Bike Count             -0.123074      -0.141804  \n",
              "Hour                           0.008715      -0.021516  \n",
              "Temperature(°C)                0.050282      -0.218405  \n",
              "Humidity(%)                    0.236397       0.108183  \n",
              "Wind speed (m/s)              -0.019674      -0.003554  \n",
              "Visibility (10m)              -0.167629      -0.121695  \n",
              "Dew point temperature(°C)      0.125597      -0.150887  \n",
              "Solar Radiation (MJ/m2)       -0.074290      -0.072301  \n",
              "Rainfall(mm)                   1.000000       0.008500  \n",
              "Snowfall (cm)                  0.008500       1.000000  "
            ],
            "text/html": [
              "\n",
              "  <div id=\"df-b6637a0e-aa0b-411f-ac01-0ca40b2e24d5\">\n",
              "    <div class=\"colab-df-container\">\n",
              "      <div>\n",
              "<style scoped>\n",
              "    .dataframe tbody tr th:only-of-type {\n",
              "        vertical-align: middle;\n",
              "    }\n",
              "\n",
              "    .dataframe tbody tr th {\n",
              "        vertical-align: top;\n",
              "    }\n",
              "\n",
              "    .dataframe thead th {\n",
              "        text-align: right;\n",
              "    }\n",
              "</style>\n",
              "<table border=\"1\" class=\"dataframe\">\n",
              "  <thead>\n",
              "    <tr style=\"text-align: right;\">\n",
              "      <th></th>\n",
              "      <th>Rented Bike Count</th>\n",
              "      <th>Hour</th>\n",
              "      <th>Temperature(°C)</th>\n",
              "      <th>Humidity(%)</th>\n",
              "      <th>Wind speed (m/s)</th>\n",
              "      <th>Visibility (10m)</th>\n",
              "      <th>Dew point temperature(°C)</th>\n",
              "      <th>Solar Radiation (MJ/m2)</th>\n",
              "      <th>Rainfall(mm)</th>\n",
              "      <th>Snowfall (cm)</th>\n",
              "    </tr>\n",
              "  </thead>\n",
              "  <tbody>\n",
              "    <tr>\n",
              "      <th>Rented Bike Count</th>\n",
              "      <td>1.000000</td>\n",
              "      <td>0.410257</td>\n",
              "      <td>0.538558</td>\n",
              "      <td>-0.199780</td>\n",
              "      <td>0.121108</td>\n",
              "      <td>0.199280</td>\n",
              "      <td>0.379788</td>\n",
              "      <td>0.261837</td>\n",
              "      <td>-0.123074</td>\n",
              "      <td>-0.141804</td>\n",
              "    </tr>\n",
              "    <tr>\n",
              "      <th>Hour</th>\n",
              "      <td>0.410257</td>\n",
              "      <td>1.000000</td>\n",
              "      <td>0.124114</td>\n",
              "      <td>-0.241644</td>\n",
              "      <td>0.285197</td>\n",
              "      <td>0.098753</td>\n",
              "      <td>0.003054</td>\n",
              "      <td>0.145131</td>\n",
              "      <td>0.008715</td>\n",
              "      <td>-0.021516</td>\n",
              "    </tr>\n",
              "    <tr>\n",
              "      <th>Temperature(°C)</th>\n",
              "      <td>0.538558</td>\n",
              "      <td>0.124114</td>\n",
              "      <td>1.000000</td>\n",
              "      <td>0.159371</td>\n",
              "      <td>-0.036252</td>\n",
              "      <td>0.034794</td>\n",
              "      <td>0.912798</td>\n",
              "      <td>0.353505</td>\n",
              "      <td>0.050282</td>\n",
              "      <td>-0.218405</td>\n",
              "    </tr>\n",
              "    <tr>\n",
              "      <th>Humidity(%)</th>\n",
              "      <td>-0.199780</td>\n",
              "      <td>-0.241644</td>\n",
              "      <td>0.159371</td>\n",
              "      <td>1.000000</td>\n",
              "      <td>-0.336683</td>\n",
              "      <td>-0.543090</td>\n",
              "      <td>0.536894</td>\n",
              "      <td>-0.461919</td>\n",
              "      <td>0.236397</td>\n",
              "      <td>0.108183</td>\n",
              "    </tr>\n",
              "    <tr>\n",
              "      <th>Wind speed (m/s)</th>\n",
              "      <td>0.121108</td>\n",
              "      <td>0.285197</td>\n",
              "      <td>-0.036252</td>\n",
              "      <td>-0.336683</td>\n",
              "      <td>1.000000</td>\n",
              "      <td>0.171507</td>\n",
              "      <td>-0.176486</td>\n",
              "      <td>0.332274</td>\n",
              "      <td>-0.019674</td>\n",
              "      <td>-0.003554</td>\n",
              "    </tr>\n",
              "    <tr>\n",
              "      <th>Visibility (10m)</th>\n",
              "      <td>0.199280</td>\n",
              "      <td>0.098753</td>\n",
              "      <td>0.034794</td>\n",
              "      <td>-0.543090</td>\n",
              "      <td>0.171507</td>\n",
              "      <td>1.000000</td>\n",
              "      <td>-0.176630</td>\n",
              "      <td>0.149738</td>\n",
              "      <td>-0.167629</td>\n",
              "      <td>-0.121695</td>\n",
              "    </tr>\n",
              "    <tr>\n",
              "      <th>Dew point temperature(°C)</th>\n",
              "      <td>0.379788</td>\n",
              "      <td>0.003054</td>\n",
              "      <td>0.912798</td>\n",
              "      <td>0.536894</td>\n",
              "      <td>-0.176486</td>\n",
              "      <td>-0.176630</td>\n",
              "      <td>1.000000</td>\n",
              "      <td>0.094381</td>\n",
              "      <td>0.125597</td>\n",
              "      <td>-0.150887</td>\n",
              "    </tr>\n",
              "    <tr>\n",
              "      <th>Solar Radiation (MJ/m2)</th>\n",
              "      <td>0.261837</td>\n",
              "      <td>0.145131</td>\n",
              "      <td>0.353505</td>\n",
              "      <td>-0.461919</td>\n",
              "      <td>0.332274</td>\n",
              "      <td>0.149738</td>\n",
              "      <td>0.094381</td>\n",
              "      <td>1.000000</td>\n",
              "      <td>-0.074290</td>\n",
              "      <td>-0.072301</td>\n",
              "    </tr>\n",
              "    <tr>\n",
              "      <th>Rainfall(mm)</th>\n",
              "      <td>-0.123074</td>\n",
              "      <td>0.008715</td>\n",
              "      <td>0.050282</td>\n",
              "      <td>0.236397</td>\n",
              "      <td>-0.019674</td>\n",
              "      <td>-0.167629</td>\n",
              "      <td>0.125597</td>\n",
              "      <td>-0.074290</td>\n",
              "      <td>1.000000</td>\n",
              "      <td>0.008500</td>\n",
              "    </tr>\n",
              "    <tr>\n",
              "      <th>Snowfall (cm)</th>\n",
              "      <td>-0.141804</td>\n",
              "      <td>-0.021516</td>\n",
              "      <td>-0.218405</td>\n",
              "      <td>0.108183</td>\n",
              "      <td>-0.003554</td>\n",
              "      <td>-0.121695</td>\n",
              "      <td>-0.150887</td>\n",
              "      <td>-0.072301</td>\n",
              "      <td>0.008500</td>\n",
              "      <td>1.000000</td>\n",
              "    </tr>\n",
              "  </tbody>\n",
              "</table>\n",
              "</div>\n",
              "      <button class=\"colab-df-convert\" onclick=\"convertToInteractive('df-b6637a0e-aa0b-411f-ac01-0ca40b2e24d5')\"\n",
              "              title=\"Convert this dataframe to an interactive table.\"\n",
              "              style=\"display:none;\">\n",
              "        \n",
              "  <svg xmlns=\"http://www.w3.org/2000/svg\" height=\"24px\"viewBox=\"0 0 24 24\"\n",
              "       width=\"24px\">\n",
              "    <path d=\"M0 0h24v24H0V0z\" fill=\"none\"/>\n",
              "    <path d=\"M18.56 5.44l.94 2.06.94-2.06 2.06-.94-2.06-.94-.94-2.06-.94 2.06-2.06.94zm-11 1L8.5 8.5l.94-2.06 2.06-.94-2.06-.94L8.5 2.5l-.94 2.06-2.06.94zm10 10l.94 2.06.94-2.06 2.06-.94-2.06-.94-.94-2.06-.94 2.06-2.06.94z\"/><path d=\"M17.41 7.96l-1.37-1.37c-.4-.4-.92-.59-1.43-.59-.52 0-1.04.2-1.43.59L10.3 9.45l-7.72 7.72c-.78.78-.78 2.05 0 2.83L4 21.41c.39.39.9.59 1.41.59.51 0 1.02-.2 1.41-.59l7.78-7.78 2.81-2.81c.8-.78.8-2.07 0-2.86zM5.41 20L4 18.59l7.72-7.72 1.47 1.35L5.41 20z\"/>\n",
              "  </svg>\n",
              "      </button>\n",
              "      \n",
              "  <style>\n",
              "    .colab-df-container {\n",
              "      display:flex;\n",
              "      flex-wrap:wrap;\n",
              "      gap: 12px;\n",
              "    }\n",
              "\n",
              "    .colab-df-convert {\n",
              "      background-color: #E8F0FE;\n",
              "      border: none;\n",
              "      border-radius: 50%;\n",
              "      cursor: pointer;\n",
              "      display: none;\n",
              "      fill: #1967D2;\n",
              "      height: 32px;\n",
              "      padding: 0 0 0 0;\n",
              "      width: 32px;\n",
              "    }\n",
              "\n",
              "    .colab-df-convert:hover {\n",
              "      background-color: #E2EBFA;\n",
              "      box-shadow: 0px 1px 2px rgba(60, 64, 67, 0.3), 0px 1px 3px 1px rgba(60, 64, 67, 0.15);\n",
              "      fill: #174EA6;\n",
              "    }\n",
              "\n",
              "    [theme=dark] .colab-df-convert {\n",
              "      background-color: #3B4455;\n",
              "      fill: #D2E3FC;\n",
              "    }\n",
              "\n",
              "    [theme=dark] .colab-df-convert:hover {\n",
              "      background-color: #434B5C;\n",
              "      box-shadow: 0px 1px 3px 1px rgba(0, 0, 0, 0.15);\n",
              "      filter: drop-shadow(0px 1px 2px rgba(0, 0, 0, 0.3));\n",
              "      fill: #FFFFFF;\n",
              "    }\n",
              "  </style>\n",
              "\n",
              "      <script>\n",
              "        const buttonEl =\n",
              "          document.querySelector('#df-b6637a0e-aa0b-411f-ac01-0ca40b2e24d5 button.colab-df-convert');\n",
              "        buttonEl.style.display =\n",
              "          google.colab.kernel.accessAllowed ? 'block' : 'none';\n",
              "\n",
              "        async function convertToInteractive(key) {\n",
              "          const element = document.querySelector('#df-b6637a0e-aa0b-411f-ac01-0ca40b2e24d5');\n",
              "          const dataTable =\n",
              "            await google.colab.kernel.invokeFunction('convertToInteractive',\n",
              "                                                     [key], {});\n",
              "          if (!dataTable) return;\n",
              "\n",
              "          const docLinkHtml = 'Like what you see? Visit the ' +\n",
              "            '<a target=\"_blank\" href=https://colab.research.google.com/notebooks/data_table.ipynb>data table notebook</a>'\n",
              "            + ' to learn more about interactive tables.';\n",
              "          element.innerHTML = '';\n",
              "          dataTable['output_type'] = 'display_data';\n",
              "          await google.colab.output.renderOutput(dataTable, element);\n",
              "          const docLink = document.createElement('div');\n",
              "          docLink.innerHTML = docLinkHtml;\n",
              "          element.appendChild(docLink);\n",
              "        }\n",
              "      </script>\n",
              "    </div>\n",
              "  </div>\n",
              "  "
            ]
          },
          "metadata": {},
          "execution_count": 31
        }
      ]
    },
    {
      "cell_type": "code",
      "source": [
        "#correlation between variables using heatmap\n",
        "plt.figure(figsize=(20,8))\n",
        "correlation=dataset.corr()\n",
        "mask=np.triu(np.ones_like(correlation, dtype=bool))\n",
        "sns.heatmap((correlation),mask=mask,annot=True,cmap='coolwarm')"
      ],
      "metadata": {
        "colab": {
          "base_uri": "https://localhost:8080/",
          "height": 627
        },
        "id": "i0QrfZ_ydgl3",
        "outputId": "9799b0ae-f888-4309-a83d-2dadf129318a"
      },
      "execution_count": null,
      "outputs": [
        {
          "output_type": "execute_result",
          "data": {
            "text/plain": [
              "<matplotlib.axes._subplots.AxesSubplot at 0x7f852bc13fd0>"
            ]
          },
          "metadata": {},
          "execution_count": 32
        },
        {
          "output_type": "display_data",
          "data": {
            "text/plain": [
              "<Figure size 1440x576 with 2 Axes>"
            ],
            "image/png": "[encoded data removed]"
          },
          "metadata": {
            "needs_background": "light"
          }
        }
      ]
    },
    {
      "cell_type": "code",
      "source": [
        "#dropping highly correlated column\n",
        "dataset=dataset.drop(['Dew point temperature(°C)'],axis=1)"
      ],
      "metadata": {
        "id": "9gW8tX50niNz"
      },
      "execution_count": null,
      "outputs": []
    },
    {
      "cell_type": "code",
      "source": [
        "dataset.info()"
      ],
      "metadata": {
        "colab": {
          "base_uri": "https://localhost:8080/"
        },
        "id": "25GIJ20soB6X",
        "outputId": "4a6cdd20-70a4-4908-a8a4-64e5fa497985"
      },
      "execution_count": null,
      "outputs": [
        {
          "output_type": "stream",
          "name": "stdout",
          "text": [
            "<class 'pandas.core.frame.DataFrame'>\n",
            "RangeIndex: 8760 entries, 0 to 8759\n",
            "Data columns (total 13 columns):\n",
            " #   Column                   Non-Null Count  Dtype  \n",
            "---  ------                   --------------  -----  \n",
            " 0   Date                     8760 non-null   object \n",
            " 1   Rented Bike Count        8760 non-null   int64  \n",
            " 2   Hour                     8760 non-null   int64  \n",
            " 3   Temperature(°C)          8760 non-null   float64\n",
            " 4   Humidity(%)              8760 non-null   int64  \n",
            " 5   Wind speed (m/s)         8760 non-null   float64\n",
            " 6   Visibility (10m)         8760 non-null   int64  \n",
            " 7   Solar Radiation (MJ/m2)  8760 non-null   float64\n",
            " 8   Rainfall(mm)             8760 non-null   float64\n",
            " 9   Snowfall (cm)            8760 non-null   float64\n",
            " 10  Seasons                  8760 non-null   object \n",
            " 11  Holiday                  8760 non-null   object \n",
            " 12  Functioning Day          8760 non-null   object \n",
            "dtypes: float64(5), int64(4), object(4)\n",
            "memory usage: 889.8+ KB\n"
          ]
        }
      ]
    },
    {
      "cell_type": "code",
      "source": [
        "dataset_copy=dataset"
      ],
      "metadata": {
        "id": "mYgGwhC26xTu"
      },
      "execution_count": null,
      "outputs": []
    },
    {
      "cell_type": "code",
      "source": [
        "x= dataset_copy.drop(columns=['Rented Bike Count'],axis=1)\n",
        "y=np.sqrt(dataset_copy['Rented Bike Count'])"
      ],
      "metadata": {
        "id": "BlkfcRV1559N"
      },
      "execution_count": null,
      "outputs": []
    },
    {
      "cell_type": "code",
      "source": [
        "x.head()"
      ],
      "metadata": {
        "colab": {
          "base_uri": "https://localhost:8080/",
          "height": 206
        },
        "id": "zWLTCTU77UR2",
        "outputId": "b7fb5663-805a-4276-dedf-b89e364c74d4"
      },
      "execution_count": null,
      "outputs": [
        {
          "output_type": "execute_result",
          "data": {
            "text/plain": [
              "         Date  Hour  Temperature(°C)  Humidity(%)  Wind speed (m/s)  \\\n",
              "0  01/12/2017     0             -5.2           37               2.2   \n",
              "1  01/12/2017     1             -5.5           38               0.8   \n",
              "2  01/12/2017     2             -6.0           39               1.0   \n",
              "3  01/12/2017     3             -6.2           40               0.9   \n",
              "4  01/12/2017     4             -6.0           36               2.3   \n",
              "\n",
              "   Visibility (10m)  Solar Radiation (MJ/m2)  Rainfall(mm)  Snowfall (cm)  \\\n",
              "0              2000                      0.0           0.0            0.0   \n",
              "1              2000                      0.0           0.0            0.0   \n",
              "2              2000                      0.0           0.0            0.0   \n",
              "3              2000                      0.0           0.0            0.0   \n",
              "4              2000                      0.0           0.0            0.0   \n",
              "\n",
              "  Seasons     Holiday Functioning Day  \n",
              "0  Winter  No Holiday             Yes  \n",
              "1  Winter  No Holiday             Yes  \n",
              "2  Winter  No Holiday             Yes  \n",
              "3  Winter  No Holiday             Yes  \n",
              "4  Winter  No Holiday             Yes  "
            ],
            "text/html": [
              "\n",
              "  <div id=\"df-79bc792f-b463-461f-b09b-bc659c112fba\">\n",
              "    <div class=\"colab-df-container\">\n",
              "      <div>\n",
              "<style scoped>\n",
              "    .dataframe tbody tr th:only-of-type {\n",
              "        vertical-align: middle;\n",
              "    }\n",
              "\n",
              "    .dataframe tbody tr th {\n",
              "        vertical-align: top;\n",
              "    }\n",
              "\n",
              "    .dataframe thead th {\n",
              "        text-align: right;\n",
              "    }\n",
              "</style>\n",
              "<table border=\"1\" class=\"dataframe\">\n",
              "  <thead>\n",
              "    <tr style=\"text-align: right;\">\n",
              "      <th></th>\n",
              "      <th>Date</th>\n",
              "      <th>Hour</th>\n",
              "      <th>Temperature(°C)</th>\n",
              "      <th>Humidity(%)</th>\n",
              "      <th>Wind speed (m/s)</th>\n",
              "      <th>Visibility (10m)</th>\n",
              "      <th>Solar Radiation (MJ/m2)</th>\n",
              "      <th>Rainfall(mm)</th>\n",
              "      <th>Snowfall (cm)</th>\n",
              "      <th>Seasons</th>\n",
              "      <th>Holiday</th>\n",
              "      <th>Functioning Day</th>\n",
              "    </tr>\n",
              "  </thead>\n",
              "  <tbody>\n",
              "    <tr>\n",
              "      <th>0</th>\n",
              "      <td>01/12/2017</td>\n",
              "      <td>0</td>\n",
              "      <td>-5.2</td>\n",
              "      <td>37</td>\n",
              "      <td>2.2</td>\n",
              "      <td>2000</td>\n",
              "      <td>0.0</td>\n",
              "      <td>0.0</td>\n",
              "      <td>0.0</td>\n",
              "      <td>Winter</td>\n",
              "      <td>No Holiday</td>\n",
              "      <td>Yes</td>\n",
              "    </tr>\n",
              "    <tr>\n",
              "      <th>1</th>\n",
              "      <td>01/12/2017</td>\n",
              "      <td>1</td>\n",
              "      <td>-5.5</td>\n",
              "      <td>38</td>\n",
              "      <td>0.8</td>\n",
              "      <td>2000</td>\n",
              "      <td>0.0</td>\n",
              "      <td>0.0</td>\n",
              "      <td>0.0</td>\n",
              "      <td>Winter</td>\n",
              "      <td>No Holiday</td>\n",
              "      <td>Yes</td>\n",
              "    </tr>\n",
              "    <tr>\n",
              "      <th>2</th>\n",
              "      <td>01/12/2017</td>\n",
              "      <td>2</td>\n",
              "      <td>-6.0</td>\n",
              "      <td>39</td>\n",
              "      <td>1.0</td>\n",
              "      <td>2000</td>\n",
              "      <td>0.0</td>\n",
              "      <td>0.0</td>\n",
              "      <td>0.0</td>\n",
              "      <td>Winter</td>\n",
              "      <td>No Holiday</td>\n",
              "      <td>Yes</td>\n",
              "    </tr>\n",
              "    <tr>\n",
              "      <th>3</th>\n",
              "      <td>01/12/2017</td>\n",
              "      <td>3</td>\n",
              "      <td>-6.2</td>\n",
              "      <td>40</td>\n",
              "      <td>0.9</td>\n",
              "      <td>2000</td>\n",
              "      <td>0.0</td>\n",
              "      <td>0.0</td>\n",
              "      <td>0.0</td>\n",
              "      <td>Winter</td>\n",
              "      <td>No Holiday</td>\n",
              "      <td>Yes</td>\n",
              "    </tr>\n",
              "    <tr>\n",
              "      <th>4</th>\n",
              "      <td>01/12/2017</td>\n",
              "      <td>4</td>\n",
              "      <td>-6.0</td>\n",
              "      <td>36</td>\n",
              "      <td>2.3</td>\n",
              "      <td>2000</td>\n",
              "      <td>0.0</td>\n",
              "      <td>0.0</td>\n",
              "      <td>0.0</td>\n",
              "      <td>Winter</td>\n",
              "      <td>No Holiday</td>\n",
              "      <td>Yes</td>\n",
              "    </tr>\n",
              "  </tbody>\n",
              "</table>\n",
              "</div>\n",
              "      <button class=\"colab-df-convert\" onclick=\"convertToInteractive('df-79bc792f-b463-461f-b09b-bc659c112fba')\"\n",
              "              title=\"Convert this dataframe to an interactive table.\"\n",
              "              style=\"display:none;\">\n",
              "        \n",
              "  <svg xmlns=\"http://www.w3.org/2000/svg\" height=\"24px\"viewBox=\"0 0 24 24\"\n",
              "       width=\"24px\">\n",
              "    <path d=\"M0 0h24v24H0V0z\" fill=\"none\"/>\n",
              "    <path d=\"M18.56 5.44l.94 2.06.94-2.06 2.06-.94-2.06-.94-.94-2.06-.94 2.06-2.06.94zm-11 1L8.5 8.5l.94-2.06 2.06-.94-2.06-.94L8.5 2.5l-.94 2.06-2.06.94zm10 10l.94 2.06.94-2.06 2.06-.94-2.06-.94-.94-2.06-.94 2.06-2.06.94z\"/><path d=\"M17.41 7.96l-1.37-1.37c-.4-.4-.92-.59-1.43-.59-.52 0-1.04.2-1.43.59L10.3 9.45l-7.72 7.72c-.78.78-.78 2.05 0 2.83L4 21.41c.39.39.9.59 1.41.59.51 0 1.02-.2 1.41-.59l7.78-7.78 2.81-2.81c.8-.78.8-2.07 0-2.86zM5.41 20L4 18.59l7.72-7.72 1.47 1.35L5.41 20z\"/>\n",
              "  </svg>\n",
              "      </button>\n",
              "      \n",
              "  <style>\n",
              "    .colab-df-container {\n",
              "      display:flex;\n",
              "      flex-wrap:wrap;\n",
              "      gap: 12px;\n",
              "    }\n",
              "\n",
              "    .colab-df-convert {\n",
              "      background-color: #E8F0FE;\n",
              "      border: none;\n",
              "      border-radius: 50%;\n",
              "      cursor: pointer;\n",
              "      display: none;\n",
              "      fill: #1967D2;\n",
              "      height: 32px;\n",
              "      padding: 0 0 0 0;\n",
              "      width: 32px;\n",
              "    }\n",
              "\n",
              "    .colab-df-convert:hover {\n",
              "      background-color: #E2EBFA;\n",
              "      box-shadow: 0px 1px 2px rgba(60, 64, 67, 0.3), 0px 1px 3px 1px rgba(60, 64, 67, 0.15);\n",
              "      fill: #174EA6;\n",
              "    }\n",
              "\n",
              "    [theme=dark] .colab-df-convert {\n",
              "      background-color: #3B4455;\n",
              "      fill: #D2E3FC;\n",
              "    }\n",
              "\n",
              "    [theme=dark] .colab-df-convert:hover {\n",
              "      background-color: #434B5C;\n",
              "      box-shadow: 0px 1px 3px 1px rgba(0, 0, 0, 0.15);\n",
              "      filter: drop-shadow(0px 1px 2px rgba(0, 0, 0, 0.3));\n",
              "      fill: #FFFFFF;\n",
              "    }\n",
              "  </style>\n",
              "\n",
              "      <script>\n",
              "        const buttonEl =\n",
              "          document.querySelector('#df-79bc792f-b463-461f-b09b-bc659c112fba button.colab-df-convert');\n",
              "        buttonEl.style.display =\n",
              "          google.colab.kernel.accessAllowed ? 'block' : 'none';\n",
              "\n",
              "        async function convertToInteractive(key) {\n",
              "          const element = document.querySelector('#df-79bc792f-b463-461f-b09b-bc659c112fba');\n",
              "          const dataTable =\n",
              "            await google.colab.kernel.invokeFunction('convertToInteractive',\n",
              "                                                     [key], {});\n",
              "          if (!dataTable) return;\n",
              "\n",
              "          const docLinkHtml = 'Like what you see? Visit the ' +\n",
              "            '<a target=\"_blank\" href=https://colab.research.google.com/notebooks/data_table.ipynb>data table notebook</a>'\n",
              "            + ' to learn more about interactive tables.';\n",
              "          element.innerHTML = '';\n",
              "          dataTable['output_type'] = 'display_data';\n",
              "          await google.colab.output.renderOutput(dataTable, element);\n",
              "          const docLink = document.createElement('div');\n",
              "          docLink.innerHTML = docLinkHtml;\n",
              "          element.appendChild(docLink);\n",
              "        }\n",
              "      </script>\n",
              "    </div>\n",
              "  </div>\n",
              "  "
            ]
          },
          "metadata": {},
          "execution_count": 37
        }
      ]
    },
    {
      "cell_type": "code",
      "source": [
        "y.head()"
      ],
      "metadata": {
        "colab": {
          "base_uri": "https://localhost:8080/"
        },
        "id": "gxUy8wgg7bSh",
        "outputId": "6f911d4b-b62d-41ed-c2df-6f104dc121d9"
      },
      "execution_count": null,
      "outputs": [
        {
          "output_type": "execute_result",
          "data": {
            "text/plain": [
              "0    15.937377\n",
              "1    14.282857\n",
              "2    13.152946\n",
              "3    10.344080\n",
              "4     8.831761\n",
              "Name: Rented Bike Count, dtype: float64"
            ]
          },
          "metadata": {},
          "execution_count": 38
        }
      ]
    },
    {
      "cell_type": "code",
      "source": [
        "# one hot encoding\n",
        "dataset_copy=dataset\n",
        "def one_hot_encoding(data,column):\n",
        "  data=pd.concat([data,pd.get_dummies])"
      ],
      "metadata": {
        "id": "rxLDJoaE88wa"
      },
      "execution_count": null,
      "outputs": []
    },
    {
      "cell_type": "code",
      "source": [
        "x_train,x_test,y_train,y_test = train_test_split(x,y, test_size=0.25,random_state=0)\n",
        "print(x_train.shape)\n",
        "print(x_test.shape)"
      ],
      "metadata": {
        "colab": {
          "base_uri": "https://localhost:8080/"
        },
        "id": "q4V_c1WZFiy2",
        "outputId": "e01a6525-b215-4795-fa80-d06f9eb58445"
      },
      "execution_count": null,
      "outputs": [
        {
          "output_type": "stream",
          "name": "stdout",
          "text": [
            "(6570, 12)\n",
            "(2190, 12)\n"
          ]
        }
      ]
    },
    {
      "cell_type": "code",
      "source": [
        "categorical_features=list(dataset.select_dtypes(['object','category']).columns)\n",
        "categorical_features=pd.Index(categorical_features)\n",
        "categorical_features"
      ],
      "metadata": {
        "colab": {
          "base_uri": "https://localhost:8080/"
        },
        "id": "W-1FtMmXavAo",
        "outputId": "583ac51d-80fb-4736-e62d-dffdc025cd6c"
      },
      "execution_count": null,
      "outputs": [
        {
          "output_type": "execute_result",
          "data": {
            "text/plain": [
              "Index(['Date', 'Seasons', 'Holiday', 'Functioning Day'], dtype='object')"
            ]
          },
          "metadata": {},
          "execution_count": 41
        }
      ]
    },
    {
      "cell_type": "code",
      "source": [
        "dataset_copy=dataset\n",
        "def one_hot_encoding(data,column):\n",
        "  data=pd.concat([data,pd.get_dummies(data[column],prefix=column,drop_first=True)],axis=1)\n",
        "  data=data.drop([column],axis=1)\n",
        "  return data\n",
        "\n",
        "for col in categorical_features:\n",
        "  dataset_copy=one_hot_encoding(dataset_copy,col)\n",
        "  dataset_copy.head()"
      ],
      "metadata": {
        "id": "3wrHVlQ9UDD5"
      },
      "execution_count": null,
      "outputs": []
    },
    {
      "cell_type": "code",
      "source": [
        "x=dataset_copy.drop(columns=['Rented Bike Count'],axis=1)\n",
        "y=np.sqrt(dataset_copy['Rented Bike Count'])"
      ],
      "metadata": {
        "id": "NJzSQGoXt6dj"
      },
      "execution_count": null,
      "outputs": []
    },
    {
      "cell_type": "code",
      "source": [
        "x.head()"
      ],
      "metadata": {
        "colab": {
          "base_uri": "https://localhost:8080/",
          "height": 334
        },
        "id": "rJu8bY52unYf",
        "outputId": "a272ce82-2474-400f-80e3-0002b6d4683a"
      },
      "execution_count": null,
      "outputs": [
        {
          "output_type": "execute_result",
          "data": {
            "text/plain": [
              "   Hour  Temperature(°C)  Humidity(%)  Wind speed (m/s)  Visibility (10m)  \\\n",
              "0     0             -5.2           37               2.2              2000   \n",
              "1     1             -5.5           38               0.8              2000   \n",
              "2     2             -6.0           39               1.0              2000   \n",
              "3     3             -6.2           40               0.9              2000   \n",
              "4     4             -6.0           36               2.3              2000   \n",
              "\n",
              "   Solar Radiation (MJ/m2)  Rainfall(mm)  Snowfall (cm)  Date_01/02/2018  \\\n",
              "0                      0.0           0.0            0.0                0   \n",
              "1                      0.0           0.0            0.0                0   \n",
              "2                      0.0           0.0            0.0                0   \n",
              "3                      0.0           0.0            0.0                0   \n",
              "4                      0.0           0.0            0.0                0   \n",
              "\n",
              "   Date_01/03/2018  ...  Date_31/05/2018  Date_31/07/2018  Date_31/08/2018  \\\n",
              "0                0  ...                0                0                0   \n",
              "1                0  ...                0                0                0   \n",
              "2                0  ...                0                0                0   \n",
              "3                0  ...                0                0                0   \n",
              "4                0  ...                0                0                0   \n",
              "\n",
              "   Date_31/10/2018  Date_31/12/2017  Seasons_Spring  Seasons_Summer  \\\n",
              "0                0                0               0               0   \n",
              "1                0                0               0               0   \n",
              "2                0                0               0               0   \n",
              "3                0                0               0               0   \n",
              "4                0                0               0               0   \n",
              "\n",
              "   Seasons_Winter  Holiday_No Holiday  Functioning Day_Yes  \n",
              "0               1                   1                    1  \n",
              "1               1                   1                    1  \n",
              "2               1                   1                    1  \n",
              "3               1                   1                    1  \n",
              "4               1                   1                    1  \n",
              "\n",
              "[5 rows x 377 columns]"
            ],
            "text/html": [
              "\n",
              "  <div id=\"df-2b3554c4-e199-4749-a3da-e2f2bd3c3b77\">\n",
              "    <div class=\"colab-df-container\">\n",
              "      <div>\n",
              "<style scoped>\n",
              "    .dataframe tbody tr th:only-of-type {\n",
              "        vertical-align: middle;\n",
              "    }\n",
              "\n",
              "    .dataframe tbody tr th {\n",
              "        vertical-align: top;\n",
              "    }\n",
              "\n",
              "    .dataframe thead th {\n",
              "        text-align: right;\n",
              "    }\n",
              "</style>\n",
              "<table border=\"1\" class=\"dataframe\">\n",
              "  <thead>\n",
              "    <tr style=\"text-align: right;\">\n",
              "      <th></th>\n",
              "      <th>Hour</th>\n",
              "      <th>Temperature(°C)</th>\n",
              "      <th>Humidity(%)</th>\n",
              "      <th>Wind speed (m/s)</th>\n",
              "      <th>Visibility (10m)</th>\n",
              "      <th>Solar Radiation (MJ/m2)</th>\n",
              "      <th>Rainfall(mm)</th>\n",
              "      <th>Snowfall (cm)</th>\n",
              "      <th>Date_01/02/2018</th>\n",
              "      <th>Date_01/03/2018</th>\n",
              "      <th>...</th>\n",
              "      <th>Date_31/05/2018</th>\n",
              "      <th>Date_31/07/2018</th>\n",
              "      <th>Date_31/08/2018</th>\n",
              "      <th>Date_31/10/2018</th>\n",
              "      <th>Date_31/12/2017</th>\n",
              "      <th>Seasons_Spring</th>\n",
              "      <th>Seasons_Summer</th>\n",
              "      <th>Seasons_Winter</th>\n",
              "      <th>Holiday_No Holiday</th>\n",
              "      <th>Functioning Day_Yes</th>\n",
              "    </tr>\n",
              "  </thead>\n",
              "  <tbody>\n",
              "    <tr>\n",
              "      <th>0</th>\n",
              "      <td>0</td>\n",
              "      <td>-5.2</td>\n",
              "      <td>37</td>\n",
              "      <td>2.2</td>\n",
              "      <td>2000</td>\n",
              "      <td>0.0</td>\n",
              "      <td>0.0</td>\n",
              "      <td>0.0</td>\n",
              "      <td>0</td>\n",
              "      <td>0</td>\n",
              "      <td>...</td>\n",
              "      <td>0</td>\n",
              "      <td>0</td>\n",
              "      <td>0</td>\n",
              "      <td>0</td>\n",
              "      <td>0</td>\n",
              "      <td>0</td>\n",
              "      <td>0</td>\n",
              "      <td>1</td>\n",
              "      <td>1</td>\n",
              "      <td>1</td>\n",
              "    </tr>\n",
              "    <tr>\n",
              "      <th>1</th>\n",
              "      <td>1</td>\n",
              "      <td>-5.5</td>\n",
              "      <td>38</td>\n",
              "      <td>0.8</td>\n",
              "      <td>2000</td>\n",
              "      <td>0.0</td>\n",
              "      <td>0.0</td>\n",
              "      <td>0.0</td>\n",
              "      <td>0</td>\n",
              "      <td>0</td>\n",
              "      <td>...</td>\n",
              "      <td>0</td>\n",
              "      <td>0</td>\n",
              "      <td>0</td>\n",
              "      <td>0</td>\n",
              "      <td>0</td>\n",
              "      <td>0</td>\n",
              "      <td>0</td>\n",
              "      <td>1</td>\n",
              "      <td>1</td>\n",
              "      <td>1</td>\n",
              "    </tr>\n",
              "    <tr>\n",
              "      <th>2</th>\n",
              "      <td>2</td>\n",
              "      <td>-6.0</td>\n",
              "      <td>39</td>\n",
              "      <td>1.0</td>\n",
              "      <td>2000</td>\n",
              "      <td>0.0</td>\n",
              "      <td>0.0</td>\n",
              "      <td>0.0</td>\n",
              "      <td>0</td>\n",
              "      <td>0</td>\n",
              "      <td>...</td>\n",
              "      <td>0</td>\n",
              "      <td>0</td>\n",
              "      <td>0</td>\n",
              "      <td>0</td>\n",
              "      <td>0</td>\n",
              "      <td>0</td>\n",
              "      <td>0</td>\n",
              "      <td>1</td>\n",
              "      <td>1</td>\n",
              "      <td>1</td>\n",
              "    </tr>\n",
              "    <tr>\n",
              "      <th>3</th>\n",
              "      <td>3</td>\n",
              "      <td>-6.2</td>\n",
              "      <td>40</td>\n",
              "      <td>0.9</td>\n",
              "      <td>2000</td>\n",
              "      <td>0.0</td>\n",
              "      <td>0.0</td>\n",
              "      <td>0.0</td>\n",
              "      <td>0</td>\n",
              "      <td>0</td>\n",
              "      <td>...</td>\n",
              "      <td>0</td>\n",
              "      <td>0</td>\n",
              "      <td>0</td>\n",
              "      <td>0</td>\n",
              "      <td>0</td>\n",
              "      <td>0</td>\n",
              "      <td>0</td>\n",
              "      <td>1</td>\n",
              "      <td>1</td>\n",
              "      <td>1</td>\n",
              "    </tr>\n",
              "    <tr>\n",
              "      <th>4</th>\n",
              "      <td>4</td>\n",
              "      <td>-6.0</td>\n",
              "      <td>36</td>\n",
              "      <td>2.3</td>\n",
              "      <td>2000</td>\n",
              "      <td>0.0</td>\n",
              "      <td>0.0</td>\n",
              "      <td>0.0</td>\n",
              "      <td>0</td>\n",
              "      <td>0</td>\n",
              "      <td>...</td>\n",
              "      <td>0</td>\n",
              "      <td>0</td>\n",
              "      <td>0</td>\n",
              "      <td>0</td>\n",
              "      <td>0</td>\n",
              "      <td>0</td>\n",
              "      <td>0</td>\n",
              "      <td>1</td>\n",
              "      <td>1</td>\n",
              "      <td>1</td>\n",
              "    </tr>\n",
              "  </tbody>\n",
              "</table>\n",
              "<p>5 rows × 377 columns</p>\n",
              "</div>\n",
              "      <button class=\"colab-df-convert\" onclick=\"convertToInteractive('df-2b3554c4-e199-4749-a3da-e2f2bd3c3b77')\"\n",
              "              title=\"Convert this dataframe to an interactive table.\"\n",
              "              style=\"display:none;\">\n",
              "        \n",
              "  <svg xmlns=\"http://www.w3.org/2000/svg\" height=\"24px\"viewBox=\"0 0 24 24\"\n",
              "       width=\"24px\">\n",
              "    <path d=\"M0 0h24v24H0V0z\" fill=\"none\"/>\n",
              "    <path d=\"M18.56 5.44l.94 2.06.94-2.06 2.06-.94-2.06-.94-.94-2.06-.94 2.06-2.06.94zm-11 1L8.5 8.5l.94-2.06 2.06-.94-2.06-.94L8.5 2.5l-.94 2.06-2.06.94zm10 10l.94 2.06.94-2.06 2.06-.94-2.06-.94-.94-2.06-.94 2.06-2.06.94z\"/><path d=\"M17.41 7.96l-1.37-1.37c-.4-.4-.92-.59-1.43-.59-.52 0-1.04.2-1.43.59L10.3 9.45l-7.72 7.72c-.78.78-.78 2.05 0 2.83L4 21.41c.39.39.9.59 1.41.59.51 0 1.02-.2 1.41-.59l7.78-7.78 2.81-2.81c.8-.78.8-2.07 0-2.86zM5.41 20L4 18.59l7.72-7.72 1.47 1.35L5.41 20z\"/>\n",
              "  </svg>\n",
              "      </button>\n",
              "      \n",
              "  <style>\n",
              "    .colab-df-container {\n",
              "      display:flex;\n",
              "      flex-wrap:wrap;\n",
              "      gap: 12px;\n",
              "    }\n",
              "\n",
              "    .colab-df-convert {\n",
              "      background-color: #E8F0FE;\n",
              "      border: none;\n",
              "      border-radius: 50%;\n",
              "      cursor: pointer;\n",
              "      display: none;\n",
              "      fill: #1967D2;\n",
              "      height: 32px;\n",
              "      padding: 0 0 0 0;\n",
              "      width: 32px;\n",
              "    }\n",
              "\n",
              "    .colab-df-convert:hover {\n",
              "      background-color: #E2EBFA;\n",
              "      box-shadow: 0px 1px 2px rgba(60, 64, 67, 0.3), 0px 1px 3px 1px rgba(60, 64, 67, 0.15);\n",
              "      fill: #174EA6;\n",
              "    }\n",
              "\n",
              "    [theme=dark] .colab-df-convert {\n",
              "      background-color: #3B4455;\n",
              "      fill: #D2E3FC;\n",
              "    }\n",
              "\n",
              "    [theme=dark] .colab-df-convert:hover {\n",
              "      background-color: #434B5C;\n",
              "      box-shadow: 0px 1px 3px 1px rgba(0, 0, 0, 0.15);\n",
              "      filter: drop-shadow(0px 1px 2px rgba(0, 0, 0, 0.3));\n",
              "      fill: #FFFFFF;\n",
              "    }\n",
              "  </style>\n",
              "\n",
              "      <script>\n",
              "        const buttonEl =\n",
              "          document.querySelector('#df-2b3554c4-e199-4749-a3da-e2f2bd3c3b77 button.colab-df-convert');\n",
              "        buttonEl.style.display =\n",
              "          google.colab.kernel.accessAllowed ? 'block' : 'none';\n",
              "\n",
              "        async function convertToInteractive(key) {\n",
              "          const element = document.querySelector('#df-2b3554c4-e199-4749-a3da-e2f2bd3c3b77');\n",
              "          const dataTable =\n",
              "            await google.colab.kernel.invokeFunction('convertToInteractive',\n",
              "                                                     [key], {});\n",
              "          if (!dataTable) return;\n",
              "\n",
              "          const docLinkHtml = 'Like what you see? Visit the ' +\n",
              "            '<a target=\"_blank\" href=https://colab.research.google.com/notebooks/data_table.ipynb>data table notebook</a>'\n",
              "            + ' to learn more about interactive tables.';\n",
              "          element.innerHTML = '';\n",
              "          dataTable['output_type'] = 'display_data';\n",
              "          await google.colab.output.renderOutput(dataTable, element);\n",
              "          const docLink = document.createElement('div');\n",
              "          docLink.innerHTML = docLinkHtml;\n",
              "          element.appendChild(docLink);\n",
              "        }\n",
              "      </script>\n",
              "    </div>\n",
              "  </div>\n",
              "  "
            ]
          },
          "metadata": {},
          "execution_count": 44
        }
      ]
    },
    {
      "cell_type": "code",
      "source": [
        "y.head()"
      ],
      "metadata": {
        "colab": {
          "base_uri": "https://localhost:8080/"
        },
        "id": "wDvLV1tjuvEw",
        "outputId": "0d7d4770-05d0-4e8d-8444-db21cd7db462"
      },
      "execution_count": null,
      "outputs": [
        {
          "output_type": "execute_result",
          "data": {
            "text/plain": [
              "0    15.937377\n",
              "1    14.282857\n",
              "2    13.152946\n",
              "3    10.344080\n",
              "4     8.831761\n",
              "Name: Rented Bike Count, dtype: float64"
            ]
          },
          "metadata": {},
          "execution_count": 46
        }
      ]
    },
    {
      "cell_type": "code",
      "source": [
        "from sklearn.model_selection import train_test_split\n",
        "x_train,x_test,y_train, y_test=train_test_split(x,y,test_size=0.25,random_state=0)\n",
        "print(x_train.shape)\n",
        "print(x_test.shape)"
      ],
      "metadata": {
        "colab": {
          "base_uri": "https://localhost:8080/"
        },
        "id": "thyqLEAUF6-r",
        "outputId": "ca811e02-bdf2-46f8-9f1d-7f2d4cab57ca"
      },
      "execution_count": null,
      "outputs": [
        {
          "output_type": "stream",
          "name": "stdout",
          "text": [
            "(6570, 377)\n",
            "(2190, 377)\n"
          ]
        }
      ]
    },
    {
      "cell_type": "code",
      "source": [
        "dataset_copy.describe().columns"
      ],
      "metadata": {
        "colab": {
          "base_uri": "https://localhost:8080/"
        },
        "id": "2EnCkD0owJ5p",
        "outputId": "4fe5cbbd-86d9-416c-d24d-d6d9717de79e"
      },
      "execution_count": null,
      "outputs": [
        {
          "output_type": "execute_result",
          "data": {
            "text/plain": [
              "Index(['Rented Bike Count', 'Hour', 'Temperature(°C)', 'Humidity(%)',\n",
              "       'Wind speed (m/s)', 'Visibility (10m)', 'Solar Radiation (MJ/m2)',\n",
              "       'Rainfall(mm)', 'Snowfall (cm)', 'Date_01/02/2018',\n",
              "       ...\n",
              "       'Date_31/05/2018', 'Date_31/07/2018', 'Date_31/08/2018',\n",
              "       'Date_31/10/2018', 'Date_31/12/2017', 'Seasons_Spring',\n",
              "       'Seasons_Summer', 'Seasons_Winter', 'Holiday_No Holiday',\n",
              "       'Functioning Day_Yes'],\n",
              "      dtype='object', length=378)"
            ]
          },
          "metadata": {},
          "execution_count": 48
        }
      ]
    },
    {
      "cell_type": "code",
      "source": [
        "from sklearn.linear_model import LinearRegression\n",
        "reg=LinearRegression().fit(x_train,y_train)"
      ],
      "metadata": {
        "id": "8nObepXVwiJ8"
      },
      "execution_count": null,
      "outputs": []
    },
    {
      "cell_type": "code",
      "source": [
        "#calculating regression score\n",
        "reg.score(x_train,y_train)"
      ],
      "metadata": {
        "colab": {
          "base_uri": "https://localhost:8080/"
        },
        "id": "amM1b4_vxAom",
        "outputId": "a08f2afd-6f11-4282-f5fc-15ec34880c48"
      },
      "execution_count": null,
      "outputs": [
        {
          "output_type": "execute_result",
          "data": {
            "text/plain": [
              "0.7606886119908367"
            ]
          },
          "metadata": {},
          "execution_count": 50
        }
      ]
    },
    {
      "cell_type": "code",
      "source": [
        "#implementing Lasso Regression\n",
        "from sklearn.linear_model import Lasso\n",
        "lasso=Lasso(alpha=1.0)"
      ],
      "metadata": {
        "id": "maTYwCIDKXWt"
      },
      "execution_count": null,
      "outputs": []
    },
    {
      "cell_type": "code",
      "source": [
        "lasso.fit(x_train,y_train)"
      ],
      "metadata": {
        "id": "ZQFrZXihK5Fq",
        "colab": {
          "base_uri": "https://localhost:8080/"
        },
        "outputId": "6c0a0ac9-872f-4023-df82-3202c5076b81"
      },
      "execution_count": null,
      "outputs": [
        {
          "output_type": "execute_result",
          "data": {
            "text/plain": [
              "Lasso()"
            ]
          },
          "metadata": {},
          "execution_count": 52
        }
      ]
    },
    {
      "cell_type": "code",
      "source": [
        "y_pred=lasso.predict(x_test) "
      ],
      "metadata": {
        "id": "kTvSzgNTK_XN"
      },
      "execution_count": null,
      "outputs": []
    },
    {
      "cell_type": "code",
      "source": [
        "y_pred "
      ],
      "metadata": {
        "id": "WPMCzy6QLSb-",
        "colab": {
          "base_uri": "https://localhost:8080/"
        },
        "outputId": "254ea8f9-667c-4979-85ad-b52cf3b9e35d"
      },
      "execution_count": null,
      "outputs": [
        {
          "output_type": "execute_result",
          "data": {
            "text/plain": [
              "array([16.95936563, 21.99133358, 19.96588063, ..., 38.36103528,\n",
              "       25.87348268, 35.72562254])"
            ]
          },
          "metadata": {},
          "execution_count": 54
        }
      ]
    },
    {
      "cell_type": "code",
      "source": [
        "#calculating mean squared error\n",
        "from sklearn.metrics import mean_squared_error\n",
        "mean_squared_error(y_test, y_pred)"
      ],
      "metadata": {
        "colab": {
          "base_uri": "https://localhost:8080/"
        },
        "id": "Af-DYcqNL3Ah",
        "outputId": "8ee52b17-2b45-44e1-fdda-090b761b23e6"
      },
      "execution_count": null,
      "outputs": [
        {
          "output_type": "execute_result",
          "data": {
            "text/plain": [
              "86.82231915668942"
            ]
          },
          "metadata": {},
          "execution_count": 55
        }
      ]
    },
    {
      "cell_type": "code",
      "source": [
        "np.sqrt(mean_squared_error(y_test,y_pred))"
      ],
      "metadata": {
        "colab": {
          "base_uri": "https://localhost:8080/"
        },
        "id": "aKSZFslcPmpx",
        "outputId": "804e70e8-aeb0-4983-b6d5-fb2cb52980c9"
      },
      "execution_count": null,
      "outputs": [
        {
          "output_type": "execute_result",
          "data": {
            "text/plain": [
              "9.317849492060356"
            ]
          },
          "metadata": {},
          "execution_count": 56
        }
      ]
    },
    {
      "cell_type": "code",
      "source": [
        "#calculating Rsquare \n",
        "print(\"Rsquared:%2f\" % lasso.score(x_test,y_test))"
      ],
      "metadata": {
        "colab": {
          "base_uri": "https://localhost:8080/"
        },
        "id": "8jHZCD6yQ9YC",
        "outputId": "9d636817-746e-426d-95fa-122f1d07528c"
      },
      "execution_count": null,
      "outputs": [
        {
          "output_type": "stream",
          "name": "stdout",
          "text": [
            "Rsquared:0.450375\n"
          ]
        }
      ]
    },
    {
      "cell_type": "code",
      "source": [
        "#Implementing Ridge Regression\n",
        "from sklearn.linear_model import Ridge\n",
        "ridge=Ridge(alpha=1.0)"
      ],
      "metadata": {
        "id": "FxDDCVrVVUtE"
      },
      "execution_count": null,
      "outputs": []
    },
    {
      "cell_type": "code",
      "source": [
        "ridge.fit(x_train,y_train)"
      ],
      "metadata": {
        "colab": {
          "base_uri": "https://localhost:8080/"
        },
        "id": "IcTWPBZXYXCr",
        "outputId": "3b2e7434-b3e9-4217-876e-7eea3aa38c4a"
      },
      "execution_count": null,
      "outputs": [
        {
          "output_type": "execute_result",
          "data": {
            "text/plain": [
              "Ridge()"
            ]
          },
          "metadata": {},
          "execution_count": 59
        }
      ]
    },
    {
      "cell_type": "code",
      "source": [
        "y_pred=lasso.predict(x_test) "
      ],
      "metadata": {
        "id": "TMpgKlUeYfD3"
      },
      "execution_count": null,
      "outputs": []
    },
    {
      "cell_type": "code",
      "source": [
        "y_pred"
      ],
      "metadata": {
        "colab": {
          "base_uri": "https://localhost:8080/"
        },
        "id": "EAJq8EYaYhhC",
        "outputId": "84dfb0d1-30b9-4b26-9bfb-e73667c03771"
      },
      "execution_count": null,
      "outputs": [
        {
          "output_type": "execute_result",
          "data": {
            "text/plain": [
              "array([16.95936563, 21.99133358, 19.96588063, ..., 38.36103528,\n",
              "       25.87348268, 35.72562254])"
            ]
          },
          "metadata": {},
          "execution_count": 61
        }
      ]
    },
    {
      "cell_type": "code",
      "source": [
        "#calculating mean squared error\n",
        "from sklearn.metrics import mean_squared_error\n",
        "mean_squared_error(y_test, y_pred)"
      ],
      "metadata": {
        "colab": {
          "base_uri": "https://localhost:8080/"
        },
        "id": "dnqexJXlYoXc",
        "outputId": "dac03b3d-2d07-427f-e8b0-bca6c30d8c45"
      },
      "execution_count": null,
      "outputs": [
        {
          "output_type": "execute_result",
          "data": {
            "text/plain": [
              "86.82231915668942"
            ]
          },
          "metadata": {},
          "execution_count": 62
        }
      ]
    },
    {
      "cell_type": "code",
      "source": [
        "#calculate Rsquared\n",
        "print(\"Rsquared:%2f\" % ridge.score(x_test,y_test))"
      ],
      "metadata": {
        "colab": {
          "base_uri": "https://localhost:8080/"
        },
        "id": "USWQD66BYynC",
        "outputId": "6a5433d2-fdd1-4fcc-d9a4-50b81a87867f"
      },
      "execution_count": null,
      "outputs": [
        {
          "output_type": "stream",
          "name": "stdout",
          "text": [
            "Rsquared:0.732848\n"
          ]
        }
      ]
    },
    {
      "cell_type": "code",
      "source": [
        "np.sqrt(mean_squared_error(y_test,y_pred))"
      ],
      "metadata": {
        "colab": {
          "base_uri": "https://localhost:8080/"
        },
        "id": "ySxzrJWHY7gY",
        "outputId": "84db9838-7f36-4657-f884-6603859970f3"
      },
      "execution_count": null,
      "outputs": [
        {
          "output_type": "execute_result",
          "data": {
            "text/plain": [
              "9.317849492060356"
            ]
          },
          "metadata": {},
          "execution_count": 64
        }
      ]
    },
    {
      "cell_type": "code",
      "source": [
        "#Implementing ElasticNet Regression\n",
        "from sklearn.linear_model import ElasticNet\n",
        "enet=ElasticNet(alpha=1.0,l1_ratio=0.5)"
      ],
      "metadata": {
        "id": "s2vYiWyVaNrZ"
      },
      "execution_count": null,
      "outputs": []
    },
    {
      "cell_type": "code",
      "source": [
        "enet.fit(x_train,y_train)"
      ],
      "metadata": {
        "colab": {
          "base_uri": "https://localhost:8080/"
        },
        "id": "gjuQwTQkfz4n",
        "outputId": "bd22c720-3fe0-4e48-b078-f064fa3033d4"
      },
      "execution_count": null,
      "outputs": [
        {
          "output_type": "execute_result",
          "data": {
            "text/plain": [
              "ElasticNet()"
            ]
          },
          "metadata": {},
          "execution_count": 66
        }
      ]
    },
    {
      "cell_type": "code",
      "source": [
        "y_pred=enet.predict(x_test)\n",
        "y_pred"
      ],
      "metadata": {
        "id": "d2RX_Tuif6xX",
        "colab": {
          "base_uri": "https://localhost:8080/"
        },
        "outputId": "c78f86e2-40ac-496f-f7c7-143d2db34977"
      },
      "execution_count": null,
      "outputs": [
        {
          "output_type": "execute_result",
          "data": {
            "text/plain": [
              "array([16.92077068, 21.9688883 , 20.01311599, ..., 38.45997862,\n",
              "       25.35926084, 35.78702135])"
            ]
          },
          "metadata": {},
          "execution_count": 67
        }
      ]
    },
    {
      "cell_type": "code",
      "source": [
        "from sklearn.metrics import mean_squared_error\n",
        "mean_squared_error(y_test, y_pred)"
      ],
      "metadata": {
        "id": "IpXDLKFWgdvg",
        "colab": {
          "base_uri": "https://localhost:8080/"
        },
        "outputId": "057fa5af-533a-4441-c112-c8277d110909"
      },
      "execution_count": null,
      "outputs": [
        {
          "output_type": "execute_result",
          "data": {
            "text/plain": [
              "85.58155949873475"
            ]
          },
          "metadata": {},
          "execution_count": 68
        }
      ]
    },
    {
      "cell_type": "code",
      "source": [
        "print(\"Rsquared:%2f\" % ridge.score(x_test,y_test))"
      ],
      "metadata": {
        "id": "THiIJfcAgqKx",
        "outputId": "dc746fae-01a5-42d5-9f68-1c4f365a3150",
        "colab": {
          "base_uri": "https://localhost:8080/"
        }
      },
      "execution_count": null,
      "outputs": [
        {
          "output_type": "stream",
          "name": "stdout",
          "text": [
            "Rsquared:0.732848\n"
          ]
        }
      ]
    },
    {
      "cell_type": "code",
      "source": [
        "np.sqrt(mean_squared_error(y_test,y_pred))"
      ],
      "metadata": {
        "colab": {
          "base_uri": "https://localhost:8080/"
        },
        "id": "B-hJ4JF4wj9x",
        "outputId": "f92139c2-316a-4b30-fca4-55c07691c876"
      },
      "execution_count": null,
      "outputs": [
        {
          "output_type": "execute_result",
          "data": {
            "text/plain": [
              "9.251030185808213"
            ]
          },
          "metadata": {},
          "execution_count": 79
        }
      ]
    },
    {
      "cell_type": "code",
      "source": [
        "#Implementing DecisionTree Regressor\n",
        "from sklearn.tree import DecisionTreeRegressor\n",
        "reg=DecisionTreeRegressor(criterion=\"mse\",\n",
        "                          max_depth=10,\n",
        "                          min_samples_split=10,\n",
        "                          random_state=5)"
      ],
      "metadata": {
        "id": "O1wb54SMwn0g"
      },
      "execution_count": null,
      "outputs": []
    },
    {
      "cell_type": "code",
      "source": [
        "reg.fit(x_train,y_train)"
      ],
      "metadata": {
        "id": "IGIrzY9BEpNF",
        "colab": {
          "base_uri": "https://localhost:8080/"
        },
        "outputId": "b228d17a-1a51-4327-e5f1-46b377034492"
      },
      "execution_count": null,
      "outputs": [
        {
          "output_type": "execute_result",
          "data": {
            "text/plain": [
              "LinearRegression()"
            ]
          },
          "metadata": {},
          "execution_count": 70
        }
      ]
    },
    {
      "cell_type": "code",
      "source": [
        "y_pred=reg.predict(x_test) "
      ],
      "metadata": {
        "id": "lsJ9H86Rwof-"
      },
      "execution_count": null,
      "outputs": []
    },
    {
      "cell_type": "code",
      "source": [
        "y_pred"
      ],
      "metadata": {
        "id": "1eKkmFuYwo7h",
        "colab": {
          "base_uri": "https://localhost:8080/"
        },
        "outputId": "8e01f46d-a515-4bfc-d83f-e6e56dbab959"
      },
      "execution_count": null,
      "outputs": [
        {
          "output_type": "execute_result",
          "data": {
            "text/plain": [
              "array([16.92077068, 21.9688883 , 20.01311599, ..., 38.45997862,\n",
              "       25.35926084, 35.78702135])"
            ]
          },
          "metadata": {},
          "execution_count": 71
        }
      ]
    },
    {
      "cell_type": "code",
      "source": [
        "from sklearn.metrics import mean_squared_error\n",
        "mean_squared_error(y_test,y_pred)"
      ],
      "metadata": {
        "id": "8mh465m5wnm6",
        "colab": {
          "base_uri": "https://localhost:8080/"
        },
        "outputId": "7e6bf90d-7ea9-4774-c76b-a80fe57f8f86"
      },
      "execution_count": null,
      "outputs": [
        {
          "output_type": "execute_result",
          "data": {
            "text/plain": [
              "85.58155949873475"
            ]
          },
          "metadata": {},
          "execution_count": 72
        }
      ]
    },
    {
      "cell_type": "code",
      "source": [
        "np.sqrt(mean_squared_error(y_test,y_pred))"
      ],
      "metadata": {
        "id": "8Iz5qIXZwnVs",
        "colab": {
          "base_uri": "https://localhost:8080/"
        },
        "outputId": "181c3547-cd79-4a3f-94d3-83145b854381"
      },
      "execution_count": null,
      "outputs": [
        {
          "output_type": "execute_result",
          "data": {
            "text/plain": [
              "9.251030185808213"
            ]
          },
          "metadata": {},
          "execution_count": 73
        }
      ]
    },
    {
      "cell_type": "code",
      "source": [
        "#Implementing CrossValidation\n",
        "from sklearn.model_selection import cross_val_score\n",
        "cross_val_score(reg,x_train,y_train,cv=10)"
      ],
      "metadata": {
        "colab": {
          "base_uri": "https://localhost:8080/"
        },
        "id": "O7q9hf7NEwxE",
        "outputId": "16e3062e-5ec5-4bb8-fabc-fbfb2b8e7471"
      },
      "execution_count": null,
      "outputs": [
        {
          "output_type": "stream",
          "name": "stderr",
          "text": [
            "/usr/local/lib/python3.7/dist-packages/sklearn/tree/_classes.py:363: FutureWarning: Criterion 'mse' was deprecated in v1.0 and will be removed in version 1.2. Use `criterion='squared_error'` which is equivalent.\n",
            "  FutureWarning,\n",
            "/usr/local/lib/python3.7/dist-packages/sklearn/tree/_classes.py:363: FutureWarning: Criterion 'mse' was deprecated in v1.0 and will be removed in version 1.2. Use `criterion='squared_error'` which is equivalent.\n",
            "  FutureWarning,\n",
            "/usr/local/lib/python3.7/dist-packages/sklearn/tree/_classes.py:363: FutureWarning: Criterion 'mse' was deprecated in v1.0 and will be removed in version 1.2. Use `criterion='squared_error'` which is equivalent.\n",
            "  FutureWarning,\n",
            "/usr/local/lib/python3.7/dist-packages/sklearn/tree/_classes.py:363: FutureWarning: Criterion 'mse' was deprecated in v1.0 and will be removed in version 1.2. Use `criterion='squared_error'` which is equivalent.\n",
            "  FutureWarning,\n",
            "/usr/local/lib/python3.7/dist-packages/sklearn/tree/_classes.py:363: FutureWarning: Criterion 'mse' was deprecated in v1.0 and will be removed in version 1.2. Use `criterion='squared_error'` which is equivalent.\n",
            "  FutureWarning,\n",
            "/usr/local/lib/python3.7/dist-packages/sklearn/tree/_classes.py:363: FutureWarning: Criterion 'mse' was deprecated in v1.0 and will be removed in version 1.2. Use `criterion='squared_error'` which is equivalent.\n",
            "  FutureWarning,\n",
            "/usr/local/lib/python3.7/dist-packages/sklearn/tree/_classes.py:363: FutureWarning: Criterion 'mse' was deprecated in v1.0 and will be removed in version 1.2. Use `criterion='squared_error'` which is equivalent.\n",
            "  FutureWarning,\n",
            "/usr/local/lib/python3.7/dist-packages/sklearn/tree/_classes.py:363: FutureWarning: Criterion 'mse' was deprecated in v1.0 and will be removed in version 1.2. Use `criterion='squared_error'` which is equivalent.\n",
            "  FutureWarning,\n",
            "/usr/local/lib/python3.7/dist-packages/sklearn/tree/_classes.py:363: FutureWarning: Criterion 'mse' was deprecated in v1.0 and will be removed in version 1.2. Use `criterion='squared_error'` which is equivalent.\n",
            "  FutureWarning,\n",
            "/usr/local/lib/python3.7/dist-packages/sklearn/tree/_classes.py:363: FutureWarning: Criterion 'mse' was deprecated in v1.0 and will be removed in version 1.2. Use `criterion='squared_error'` which is equivalent.\n",
            "  FutureWarning,\n"
          ]
        },
        {
          "output_type": "execute_result",
          "data": {
            "text/plain": [
              "array([0.85858473, 0.83802014, 0.86336435, 0.84995168, 0.83743899,\n",
              "       0.86561386, 0.86750459, 0.83647552, 0.82647416, 0.86927338])"
            ]
          },
          "metadata": {},
          "execution_count": 102
        }
      ]
    },
    {
      "cell_type": "code",
      "source": [],
      "metadata": {
        "id": "MJiBoTVlBRYG"
      },
      "execution_count": null,
      "outputs": []
    }
  ]
}